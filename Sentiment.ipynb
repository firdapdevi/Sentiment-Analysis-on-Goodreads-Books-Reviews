{
  "nbformat": 4,
  "nbformat_minor": 0,
  "metadata": {
    "colab": {
      "provenance": [],
      "toc_visible": true,
      "machine_shape": "hm",
      "gpuType": "A100"
    },
    "kernelspec": {
      "name": "python3",
      "display_name": "Python 3"
    },
    "language_info": {
      "name": "python"
    },
    "accelerator": "GPU",
    "widgets": {
      "application/vnd.jupyter.widget-state+json": {
        "47c1d78281a84875a2881957863dabcb": {
          "model_module": "@jupyter-widgets/controls",
          "model_name": "HBoxModel",
          "model_module_version": "1.5.0",
          "state": {
            "_dom_classes": [],
            "_model_module": "@jupyter-widgets/controls",
            "_model_module_version": "1.5.0",
            "_model_name": "HBoxModel",
            "_view_count": null,
            "_view_module": "@jupyter-widgets/controls",
            "_view_module_version": "1.5.0",
            "_view_name": "HBoxView",
            "box_style": "",
            "children": [
              "IPY_MODEL_377bb6dc7a7248d999955838b0fbd062",
              "IPY_MODEL_e90800861a824e449dfa48205d7243a6",
              "IPY_MODEL_3758feecadff436f929b4f8399853ea0"
            ],
            "layout": "IPY_MODEL_50dd80185f4c40f78e9ac2c2b6700000"
          }
        },
        "377bb6dc7a7248d999955838b0fbd062": {
          "model_module": "@jupyter-widgets/controls",
          "model_name": "HTMLModel",
          "model_module_version": "1.5.0",
          "state": {
            "_dom_classes": [],
            "_model_module": "@jupyter-widgets/controls",
            "_model_module_version": "1.5.0",
            "_model_name": "HTMLModel",
            "_view_count": null,
            "_view_module": "@jupyter-widgets/controls",
            "_view_module_version": "1.5.0",
            "_view_name": "HTMLView",
            "description": "",
            "description_tooltip": null,
            "layout": "IPY_MODEL_50c80df016604b68bf7b297fb3fd301c",
            "placeholder": "​",
            "style": "IPY_MODEL_6b2d895c8a87463c9562db8c66217ea7",
            "value": "Downloading: 100%"
          }
        },
        "e90800861a824e449dfa48205d7243a6": {
          "model_module": "@jupyter-widgets/controls",
          "model_name": "FloatProgressModel",
          "model_module_version": "1.5.0",
          "state": {
            "_dom_classes": [],
            "_model_module": "@jupyter-widgets/controls",
            "_model_module_version": "1.5.0",
            "_model_name": "FloatProgressModel",
            "_view_count": null,
            "_view_module": "@jupyter-widgets/controls",
            "_view_module_version": "1.5.0",
            "_view_name": "ProgressView",
            "bar_style": "success",
            "description": "",
            "description_tooltip": null,
            "layout": "IPY_MODEL_9a2531443ad44881baeba8c8c245b2ff",
            "max": 48,
            "min": 0,
            "orientation": "horizontal",
            "style": "IPY_MODEL_14b0642937ed41b08c9d64107a09c7e4",
            "value": 48
          }
        },
        "3758feecadff436f929b4f8399853ea0": {
          "model_module": "@jupyter-widgets/controls",
          "model_name": "HTMLModel",
          "model_module_version": "1.5.0",
          "state": {
            "_dom_classes": [],
            "_model_module": "@jupyter-widgets/controls",
            "_model_module_version": "1.5.0",
            "_model_name": "HTMLModel",
            "_view_count": null,
            "_view_module": "@jupyter-widgets/controls",
            "_view_module_version": "1.5.0",
            "_view_name": "HTMLView",
            "description": "",
            "description_tooltip": null,
            "layout": "IPY_MODEL_9b518fb53df04774b2352d6031a81424",
            "placeholder": "​",
            "style": "IPY_MODEL_d4e9b987dc6d4804a63bbc998b4fd758",
            "value": " 48.0/48.0 [00:00&lt;00:00, 747B/s]"
          }
        },
        "50dd80185f4c40f78e9ac2c2b6700000": {
          "model_module": "@jupyter-widgets/base",
          "model_name": "LayoutModel",
          "model_module_version": "1.2.0",
          "state": {
            "_model_module": "@jupyter-widgets/base",
            "_model_module_version": "1.2.0",
            "_model_name": "LayoutModel",
            "_view_count": null,
            "_view_module": "@jupyter-widgets/base",
            "_view_module_version": "1.2.0",
            "_view_name": "LayoutView",
            "align_content": null,
            "align_items": null,
            "align_self": null,
            "border": null,
            "bottom": null,
            "display": null,
            "flex": null,
            "flex_flow": null,
            "grid_area": null,
            "grid_auto_columns": null,
            "grid_auto_flow": null,
            "grid_auto_rows": null,
            "grid_column": null,
            "grid_gap": null,
            "grid_row": null,
            "grid_template_areas": null,
            "grid_template_columns": null,
            "grid_template_rows": null,
            "height": null,
            "justify_content": null,
            "justify_items": null,
            "left": null,
            "margin": null,
            "max_height": null,
            "max_width": null,
            "min_height": null,
            "min_width": null,
            "object_fit": null,
            "object_position": null,
            "order": null,
            "overflow": null,
            "overflow_x": null,
            "overflow_y": null,
            "padding": null,
            "right": null,
            "top": null,
            "visibility": null,
            "width": null
          }
        },
        "50c80df016604b68bf7b297fb3fd301c": {
          "model_module": "@jupyter-widgets/base",
          "model_name": "LayoutModel",
          "model_module_version": "1.2.0",
          "state": {
            "_model_module": "@jupyter-widgets/base",
            "_model_module_version": "1.2.0",
            "_model_name": "LayoutModel",
            "_view_count": null,
            "_view_module": "@jupyter-widgets/base",
            "_view_module_version": "1.2.0",
            "_view_name": "LayoutView",
            "align_content": null,
            "align_items": null,
            "align_self": null,
            "border": null,
            "bottom": null,
            "display": null,
            "flex": null,
            "flex_flow": null,
            "grid_area": null,
            "grid_auto_columns": null,
            "grid_auto_flow": null,
            "grid_auto_rows": null,
            "grid_column": null,
            "grid_gap": null,
            "grid_row": null,
            "grid_template_areas": null,
            "grid_template_columns": null,
            "grid_template_rows": null,
            "height": null,
            "justify_content": null,
            "justify_items": null,
            "left": null,
            "margin": null,
            "max_height": null,
            "max_width": null,
            "min_height": null,
            "min_width": null,
            "object_fit": null,
            "object_position": null,
            "order": null,
            "overflow": null,
            "overflow_x": null,
            "overflow_y": null,
            "padding": null,
            "right": null,
            "top": null,
            "visibility": null,
            "width": null
          }
        },
        "6b2d895c8a87463c9562db8c66217ea7": {
          "model_module": "@jupyter-widgets/controls",
          "model_name": "DescriptionStyleModel",
          "model_module_version": "1.5.0",
          "state": {
            "_model_module": "@jupyter-widgets/controls",
            "_model_module_version": "1.5.0",
            "_model_name": "DescriptionStyleModel",
            "_view_count": null,
            "_view_module": "@jupyter-widgets/base",
            "_view_module_version": "1.2.0",
            "_view_name": "StyleView",
            "description_width": ""
          }
        },
        "9a2531443ad44881baeba8c8c245b2ff": {
          "model_module": "@jupyter-widgets/base",
          "model_name": "LayoutModel",
          "model_module_version": "1.2.0",
          "state": {
            "_model_module": "@jupyter-widgets/base",
            "_model_module_version": "1.2.0",
            "_model_name": "LayoutModel",
            "_view_count": null,
            "_view_module": "@jupyter-widgets/base",
            "_view_module_version": "1.2.0",
            "_view_name": "LayoutView",
            "align_content": null,
            "align_items": null,
            "align_self": null,
            "border": null,
            "bottom": null,
            "display": null,
            "flex": null,
            "flex_flow": null,
            "grid_area": null,
            "grid_auto_columns": null,
            "grid_auto_flow": null,
            "grid_auto_rows": null,
            "grid_column": null,
            "grid_gap": null,
            "grid_row": null,
            "grid_template_areas": null,
            "grid_template_columns": null,
            "grid_template_rows": null,
            "height": null,
            "justify_content": null,
            "justify_items": null,
            "left": null,
            "margin": null,
            "max_height": null,
            "max_width": null,
            "min_height": null,
            "min_width": null,
            "object_fit": null,
            "object_position": null,
            "order": null,
            "overflow": null,
            "overflow_x": null,
            "overflow_y": null,
            "padding": null,
            "right": null,
            "top": null,
            "visibility": null,
            "width": null
          }
        },
        "14b0642937ed41b08c9d64107a09c7e4": {
          "model_module": "@jupyter-widgets/controls",
          "model_name": "ProgressStyleModel",
          "model_module_version": "1.5.0",
          "state": {
            "_model_module": "@jupyter-widgets/controls",
            "_model_module_version": "1.5.0",
            "_model_name": "ProgressStyleModel",
            "_view_count": null,
            "_view_module": "@jupyter-widgets/base",
            "_view_module_version": "1.2.0",
            "_view_name": "StyleView",
            "bar_color": null,
            "description_width": ""
          }
        },
        "9b518fb53df04774b2352d6031a81424": {
          "model_module": "@jupyter-widgets/base",
          "model_name": "LayoutModel",
          "model_module_version": "1.2.0",
          "state": {
            "_model_module": "@jupyter-widgets/base",
            "_model_module_version": "1.2.0",
            "_model_name": "LayoutModel",
            "_view_count": null,
            "_view_module": "@jupyter-widgets/base",
            "_view_module_version": "1.2.0",
            "_view_name": "LayoutView",
            "align_content": null,
            "align_items": null,
            "align_self": null,
            "border": null,
            "bottom": null,
            "display": null,
            "flex": null,
            "flex_flow": null,
            "grid_area": null,
            "grid_auto_columns": null,
            "grid_auto_flow": null,
            "grid_auto_rows": null,
            "grid_column": null,
            "grid_gap": null,
            "grid_row": null,
            "grid_template_areas": null,
            "grid_template_columns": null,
            "grid_template_rows": null,
            "height": null,
            "justify_content": null,
            "justify_items": null,
            "left": null,
            "margin": null,
            "max_height": null,
            "max_width": null,
            "min_height": null,
            "min_width": null,
            "object_fit": null,
            "object_position": null,
            "order": null,
            "overflow": null,
            "overflow_x": null,
            "overflow_y": null,
            "padding": null,
            "right": null,
            "top": null,
            "visibility": null,
            "width": null
          }
        },
        "d4e9b987dc6d4804a63bbc998b4fd758": {
          "model_module": "@jupyter-widgets/controls",
          "model_name": "DescriptionStyleModel",
          "model_module_version": "1.5.0",
          "state": {
            "_model_module": "@jupyter-widgets/controls",
            "_model_module_version": "1.5.0",
            "_model_name": "DescriptionStyleModel",
            "_view_count": null,
            "_view_module": "@jupyter-widgets/base",
            "_view_module_version": "1.2.0",
            "_view_name": "StyleView",
            "description_width": ""
          }
        },
        "7d8c94b6d4fc42f49420d131dfb5a309": {
          "model_module": "@jupyter-widgets/controls",
          "model_name": "HBoxModel",
          "model_module_version": "1.5.0",
          "state": {
            "_dom_classes": [],
            "_model_module": "@jupyter-widgets/controls",
            "_model_module_version": "1.5.0",
            "_model_name": "HBoxModel",
            "_view_count": null,
            "_view_module": "@jupyter-widgets/controls",
            "_view_module_version": "1.5.0",
            "_view_name": "HBoxView",
            "box_style": "",
            "children": [
              "IPY_MODEL_cbdcf13337424f3b96ad16f63a66ca6c",
              "IPY_MODEL_a7daf275cce3433cab2a1c845e275f8c",
              "IPY_MODEL_40e58ec320f449a58446b50b39ce2f94"
            ],
            "layout": "IPY_MODEL_c8ed862cfe8b42faafc0d307caf2611b"
          }
        },
        "cbdcf13337424f3b96ad16f63a66ca6c": {
          "model_module": "@jupyter-widgets/controls",
          "model_name": "HTMLModel",
          "model_module_version": "1.5.0",
          "state": {
            "_dom_classes": [],
            "_model_module": "@jupyter-widgets/controls",
            "_model_module_version": "1.5.0",
            "_model_name": "HTMLModel",
            "_view_count": null,
            "_view_module": "@jupyter-widgets/controls",
            "_view_module_version": "1.5.0",
            "_view_name": "HTMLView",
            "description": "",
            "description_tooltip": null,
            "layout": "IPY_MODEL_726856e249374b9fa836c2b8fe6a29c6",
            "placeholder": "​",
            "style": "IPY_MODEL_c634b7ea4e324fac8776b1dbda8c09c9",
            "value": "Downloading: 100%"
          }
        },
        "a7daf275cce3433cab2a1c845e275f8c": {
          "model_module": "@jupyter-widgets/controls",
          "model_name": "FloatProgressModel",
          "model_module_version": "1.5.0",
          "state": {
            "_dom_classes": [],
            "_model_module": "@jupyter-widgets/controls",
            "_model_module_version": "1.5.0",
            "_model_name": "FloatProgressModel",
            "_view_count": null,
            "_view_module": "@jupyter-widgets/controls",
            "_view_module_version": "1.5.0",
            "_view_name": "ProgressView",
            "bar_style": "success",
            "description": "",
            "description_tooltip": null,
            "layout": "IPY_MODEL_27cc878a5b2d480c8215d4b7c0d57fc9",
            "max": 231508,
            "min": 0,
            "orientation": "horizontal",
            "style": "IPY_MODEL_c25d5ec7db72496e8629cc7ce020e224",
            "value": 231508
          }
        },
        "40e58ec320f449a58446b50b39ce2f94": {
          "model_module": "@jupyter-widgets/controls",
          "model_name": "HTMLModel",
          "model_module_version": "1.5.0",
          "state": {
            "_dom_classes": [],
            "_model_module": "@jupyter-widgets/controls",
            "_model_module_version": "1.5.0",
            "_model_name": "HTMLModel",
            "_view_count": null,
            "_view_module": "@jupyter-widgets/controls",
            "_view_module_version": "1.5.0",
            "_view_name": "HTMLView",
            "description": "",
            "description_tooltip": null,
            "layout": "IPY_MODEL_3a00195ce79d4264b9a544088aeb61e7",
            "placeholder": "​",
            "style": "IPY_MODEL_e34575cbae15466780f06fd54644cf58",
            "value": " 226k/226k [00:00&lt;00:00, 2.92MB/s]"
          }
        },
        "c8ed862cfe8b42faafc0d307caf2611b": {
          "model_module": "@jupyter-widgets/base",
          "model_name": "LayoutModel",
          "model_module_version": "1.2.0",
          "state": {
            "_model_module": "@jupyter-widgets/base",
            "_model_module_version": "1.2.0",
            "_model_name": "LayoutModel",
            "_view_count": null,
            "_view_module": "@jupyter-widgets/base",
            "_view_module_version": "1.2.0",
            "_view_name": "LayoutView",
            "align_content": null,
            "align_items": null,
            "align_self": null,
            "border": null,
            "bottom": null,
            "display": null,
            "flex": null,
            "flex_flow": null,
            "grid_area": null,
            "grid_auto_columns": null,
            "grid_auto_flow": null,
            "grid_auto_rows": null,
            "grid_column": null,
            "grid_gap": null,
            "grid_row": null,
            "grid_template_areas": null,
            "grid_template_columns": null,
            "grid_template_rows": null,
            "height": null,
            "justify_content": null,
            "justify_items": null,
            "left": null,
            "margin": null,
            "max_height": null,
            "max_width": null,
            "min_height": null,
            "min_width": null,
            "object_fit": null,
            "object_position": null,
            "order": null,
            "overflow": null,
            "overflow_x": null,
            "overflow_y": null,
            "padding": null,
            "right": null,
            "top": null,
            "visibility": null,
            "width": null
          }
        },
        "726856e249374b9fa836c2b8fe6a29c6": {
          "model_module": "@jupyter-widgets/base",
          "model_name": "LayoutModel",
          "model_module_version": "1.2.0",
          "state": {
            "_model_module": "@jupyter-widgets/base",
            "_model_module_version": "1.2.0",
            "_model_name": "LayoutModel",
            "_view_count": null,
            "_view_module": "@jupyter-widgets/base",
            "_view_module_version": "1.2.0",
            "_view_name": "LayoutView",
            "align_content": null,
            "align_items": null,
            "align_self": null,
            "border": null,
            "bottom": null,
            "display": null,
            "flex": null,
            "flex_flow": null,
            "grid_area": null,
            "grid_auto_columns": null,
            "grid_auto_flow": null,
            "grid_auto_rows": null,
            "grid_column": null,
            "grid_gap": null,
            "grid_row": null,
            "grid_template_areas": null,
            "grid_template_columns": null,
            "grid_template_rows": null,
            "height": null,
            "justify_content": null,
            "justify_items": null,
            "left": null,
            "margin": null,
            "max_height": null,
            "max_width": null,
            "min_height": null,
            "min_width": null,
            "object_fit": null,
            "object_position": null,
            "order": null,
            "overflow": null,
            "overflow_x": null,
            "overflow_y": null,
            "padding": null,
            "right": null,
            "top": null,
            "visibility": null,
            "width": null
          }
        },
        "c634b7ea4e324fac8776b1dbda8c09c9": {
          "model_module": "@jupyter-widgets/controls",
          "model_name": "DescriptionStyleModel",
          "model_module_version": "1.5.0",
          "state": {
            "_model_module": "@jupyter-widgets/controls",
            "_model_module_version": "1.5.0",
            "_model_name": "DescriptionStyleModel",
            "_view_count": null,
            "_view_module": "@jupyter-widgets/base",
            "_view_module_version": "1.2.0",
            "_view_name": "StyleView",
            "description_width": ""
          }
        },
        "27cc878a5b2d480c8215d4b7c0d57fc9": {
          "model_module": "@jupyter-widgets/base",
          "model_name": "LayoutModel",
          "model_module_version": "1.2.0",
          "state": {
            "_model_module": "@jupyter-widgets/base",
            "_model_module_version": "1.2.0",
            "_model_name": "LayoutModel",
            "_view_count": null,
            "_view_module": "@jupyter-widgets/base",
            "_view_module_version": "1.2.0",
            "_view_name": "LayoutView",
            "align_content": null,
            "align_items": null,
            "align_self": null,
            "border": null,
            "bottom": null,
            "display": null,
            "flex": null,
            "flex_flow": null,
            "grid_area": null,
            "grid_auto_columns": null,
            "grid_auto_flow": null,
            "grid_auto_rows": null,
            "grid_column": null,
            "grid_gap": null,
            "grid_row": null,
            "grid_template_areas": null,
            "grid_template_columns": null,
            "grid_template_rows": null,
            "height": null,
            "justify_content": null,
            "justify_items": null,
            "left": null,
            "margin": null,
            "max_height": null,
            "max_width": null,
            "min_height": null,
            "min_width": null,
            "object_fit": null,
            "object_position": null,
            "order": null,
            "overflow": null,
            "overflow_x": null,
            "overflow_y": null,
            "padding": null,
            "right": null,
            "top": null,
            "visibility": null,
            "width": null
          }
        },
        "c25d5ec7db72496e8629cc7ce020e224": {
          "model_module": "@jupyter-widgets/controls",
          "model_name": "ProgressStyleModel",
          "model_module_version": "1.5.0",
          "state": {
            "_model_module": "@jupyter-widgets/controls",
            "_model_module_version": "1.5.0",
            "_model_name": "ProgressStyleModel",
            "_view_count": null,
            "_view_module": "@jupyter-widgets/base",
            "_view_module_version": "1.2.0",
            "_view_name": "StyleView",
            "bar_color": null,
            "description_width": ""
          }
        },
        "3a00195ce79d4264b9a544088aeb61e7": {
          "model_module": "@jupyter-widgets/base",
          "model_name": "LayoutModel",
          "model_module_version": "1.2.0",
          "state": {
            "_model_module": "@jupyter-widgets/base",
            "_model_module_version": "1.2.0",
            "_model_name": "LayoutModel",
            "_view_count": null,
            "_view_module": "@jupyter-widgets/base",
            "_view_module_version": "1.2.0",
            "_view_name": "LayoutView",
            "align_content": null,
            "align_items": null,
            "align_self": null,
            "border": null,
            "bottom": null,
            "display": null,
            "flex": null,
            "flex_flow": null,
            "grid_area": null,
            "grid_auto_columns": null,
            "grid_auto_flow": null,
            "grid_auto_rows": null,
            "grid_column": null,
            "grid_gap": null,
            "grid_row": null,
            "grid_template_areas": null,
            "grid_template_columns": null,
            "grid_template_rows": null,
            "height": null,
            "justify_content": null,
            "justify_items": null,
            "left": null,
            "margin": null,
            "max_height": null,
            "max_width": null,
            "min_height": null,
            "min_width": null,
            "object_fit": null,
            "object_position": null,
            "order": null,
            "overflow": null,
            "overflow_x": null,
            "overflow_y": null,
            "padding": null,
            "right": null,
            "top": null,
            "visibility": null,
            "width": null
          }
        },
        "e34575cbae15466780f06fd54644cf58": {
          "model_module": "@jupyter-widgets/controls",
          "model_name": "DescriptionStyleModel",
          "model_module_version": "1.5.0",
          "state": {
            "_model_module": "@jupyter-widgets/controls",
            "_model_module_version": "1.5.0",
            "_model_name": "DescriptionStyleModel",
            "_view_count": null,
            "_view_module": "@jupyter-widgets/base",
            "_view_module_version": "1.2.0",
            "_view_name": "StyleView",
            "description_width": ""
          }
        },
        "05c34954301a4b2991976c6fff4302f4": {
          "model_module": "@jupyter-widgets/controls",
          "model_name": "HBoxModel",
          "model_module_version": "1.5.0",
          "state": {
            "_dom_classes": [],
            "_model_module": "@jupyter-widgets/controls",
            "_model_module_version": "1.5.0",
            "_model_name": "HBoxModel",
            "_view_count": null,
            "_view_module": "@jupyter-widgets/controls",
            "_view_module_version": "1.5.0",
            "_view_name": "HBoxView",
            "box_style": "",
            "children": [
              "IPY_MODEL_1a0af6e6c5174e94be7e2e9d49bdd55b",
              "IPY_MODEL_5ffd7fe156614b718c20f94a6f3a046c",
              "IPY_MODEL_5ddb4a4b4a4b4eafad449856002e8bbf"
            ],
            "layout": "IPY_MODEL_1aca0a9de0814a4a8f225ea74d3ec47c"
          }
        },
        "1a0af6e6c5174e94be7e2e9d49bdd55b": {
          "model_module": "@jupyter-widgets/controls",
          "model_name": "HTMLModel",
          "model_module_version": "1.5.0",
          "state": {
            "_dom_classes": [],
            "_model_module": "@jupyter-widgets/controls",
            "_model_module_version": "1.5.0",
            "_model_name": "HTMLModel",
            "_view_count": null,
            "_view_module": "@jupyter-widgets/controls",
            "_view_module_version": "1.5.0",
            "_view_name": "HTMLView",
            "description": "",
            "description_tooltip": null,
            "layout": "IPY_MODEL_14fb5c7340fc4ac6b6c6ccd268118398",
            "placeholder": "​",
            "style": "IPY_MODEL_c641fbb816df40bd8cffb9b9e932b572",
            "value": "Downloading: 100%"
          }
        },
        "5ffd7fe156614b718c20f94a6f3a046c": {
          "model_module": "@jupyter-widgets/controls",
          "model_name": "FloatProgressModel",
          "model_module_version": "1.5.0",
          "state": {
            "_dom_classes": [],
            "_model_module": "@jupyter-widgets/controls",
            "_model_module_version": "1.5.0",
            "_model_name": "FloatProgressModel",
            "_view_count": null,
            "_view_module": "@jupyter-widgets/controls",
            "_view_module_version": "1.5.0",
            "_view_name": "ProgressView",
            "bar_style": "success",
            "description": "",
            "description_tooltip": null,
            "layout": "IPY_MODEL_e641cbbd036e4768bab46c9ff16f568f",
            "max": 466062,
            "min": 0,
            "orientation": "horizontal",
            "style": "IPY_MODEL_821d2a34f6f24d2f8614ea8b0e7e6a7a",
            "value": 466062
          }
        },
        "5ddb4a4b4a4b4eafad449856002e8bbf": {
          "model_module": "@jupyter-widgets/controls",
          "model_name": "HTMLModel",
          "model_module_version": "1.5.0",
          "state": {
            "_dom_classes": [],
            "_model_module": "@jupyter-widgets/controls",
            "_model_module_version": "1.5.0",
            "_model_name": "HTMLModel",
            "_view_count": null,
            "_view_module": "@jupyter-widgets/controls",
            "_view_module_version": "1.5.0",
            "_view_name": "HTMLView",
            "description": "",
            "description_tooltip": null,
            "layout": "IPY_MODEL_69ed7bcf614647b0b8f68fda0ffd3383",
            "placeholder": "​",
            "style": "IPY_MODEL_6d21ea39799d4d72bc1fd687c0147b83",
            "value": " 455k/455k [00:00&lt;00:00, 1.67MB/s]"
          }
        },
        "1aca0a9de0814a4a8f225ea74d3ec47c": {
          "model_module": "@jupyter-widgets/base",
          "model_name": "LayoutModel",
          "model_module_version": "1.2.0",
          "state": {
            "_model_module": "@jupyter-widgets/base",
            "_model_module_version": "1.2.0",
            "_model_name": "LayoutModel",
            "_view_count": null,
            "_view_module": "@jupyter-widgets/base",
            "_view_module_version": "1.2.0",
            "_view_name": "LayoutView",
            "align_content": null,
            "align_items": null,
            "align_self": null,
            "border": null,
            "bottom": null,
            "display": null,
            "flex": null,
            "flex_flow": null,
            "grid_area": null,
            "grid_auto_columns": null,
            "grid_auto_flow": null,
            "grid_auto_rows": null,
            "grid_column": null,
            "grid_gap": null,
            "grid_row": null,
            "grid_template_areas": null,
            "grid_template_columns": null,
            "grid_template_rows": null,
            "height": null,
            "justify_content": null,
            "justify_items": null,
            "left": null,
            "margin": null,
            "max_height": null,
            "max_width": null,
            "min_height": null,
            "min_width": null,
            "object_fit": null,
            "object_position": null,
            "order": null,
            "overflow": null,
            "overflow_x": null,
            "overflow_y": null,
            "padding": null,
            "right": null,
            "top": null,
            "visibility": null,
            "width": null
          }
        },
        "14fb5c7340fc4ac6b6c6ccd268118398": {
          "model_module": "@jupyter-widgets/base",
          "model_name": "LayoutModel",
          "model_module_version": "1.2.0",
          "state": {
            "_model_module": "@jupyter-widgets/base",
            "_model_module_version": "1.2.0",
            "_model_name": "LayoutModel",
            "_view_count": null,
            "_view_module": "@jupyter-widgets/base",
            "_view_module_version": "1.2.0",
            "_view_name": "LayoutView",
            "align_content": null,
            "align_items": null,
            "align_self": null,
            "border": null,
            "bottom": null,
            "display": null,
            "flex": null,
            "flex_flow": null,
            "grid_area": null,
            "grid_auto_columns": null,
            "grid_auto_flow": null,
            "grid_auto_rows": null,
            "grid_column": null,
            "grid_gap": null,
            "grid_row": null,
            "grid_template_areas": null,
            "grid_template_columns": null,
            "grid_template_rows": null,
            "height": null,
            "justify_content": null,
            "justify_items": null,
            "left": null,
            "margin": null,
            "max_height": null,
            "max_width": null,
            "min_height": null,
            "min_width": null,
            "object_fit": null,
            "object_position": null,
            "order": null,
            "overflow": null,
            "overflow_x": null,
            "overflow_y": null,
            "padding": null,
            "right": null,
            "top": null,
            "visibility": null,
            "width": null
          }
        },
        "c641fbb816df40bd8cffb9b9e932b572": {
          "model_module": "@jupyter-widgets/controls",
          "model_name": "DescriptionStyleModel",
          "model_module_version": "1.5.0",
          "state": {
            "_model_module": "@jupyter-widgets/controls",
            "_model_module_version": "1.5.0",
            "_model_name": "DescriptionStyleModel",
            "_view_count": null,
            "_view_module": "@jupyter-widgets/base",
            "_view_module_version": "1.2.0",
            "_view_name": "StyleView",
            "description_width": ""
          }
        },
        "e641cbbd036e4768bab46c9ff16f568f": {
          "model_module": "@jupyter-widgets/base",
          "model_name": "LayoutModel",
          "model_module_version": "1.2.0",
          "state": {
            "_model_module": "@jupyter-widgets/base",
            "_model_module_version": "1.2.0",
            "_model_name": "LayoutModel",
            "_view_count": null,
            "_view_module": "@jupyter-widgets/base",
            "_view_module_version": "1.2.0",
            "_view_name": "LayoutView",
            "align_content": null,
            "align_items": null,
            "align_self": null,
            "border": null,
            "bottom": null,
            "display": null,
            "flex": null,
            "flex_flow": null,
            "grid_area": null,
            "grid_auto_columns": null,
            "grid_auto_flow": null,
            "grid_auto_rows": null,
            "grid_column": null,
            "grid_gap": null,
            "grid_row": null,
            "grid_template_areas": null,
            "grid_template_columns": null,
            "grid_template_rows": null,
            "height": null,
            "justify_content": null,
            "justify_items": null,
            "left": null,
            "margin": null,
            "max_height": null,
            "max_width": null,
            "min_height": null,
            "min_width": null,
            "object_fit": null,
            "object_position": null,
            "order": null,
            "overflow": null,
            "overflow_x": null,
            "overflow_y": null,
            "padding": null,
            "right": null,
            "top": null,
            "visibility": null,
            "width": null
          }
        },
        "821d2a34f6f24d2f8614ea8b0e7e6a7a": {
          "model_module": "@jupyter-widgets/controls",
          "model_name": "ProgressStyleModel",
          "model_module_version": "1.5.0",
          "state": {
            "_model_module": "@jupyter-widgets/controls",
            "_model_module_version": "1.5.0",
            "_model_name": "ProgressStyleModel",
            "_view_count": null,
            "_view_module": "@jupyter-widgets/base",
            "_view_module_version": "1.2.0",
            "_view_name": "StyleView",
            "bar_color": null,
            "description_width": ""
          }
        },
        "69ed7bcf614647b0b8f68fda0ffd3383": {
          "model_module": "@jupyter-widgets/base",
          "model_name": "LayoutModel",
          "model_module_version": "1.2.0",
          "state": {
            "_model_module": "@jupyter-widgets/base",
            "_model_module_version": "1.2.0",
            "_model_name": "LayoutModel",
            "_view_count": null,
            "_view_module": "@jupyter-widgets/base",
            "_view_module_version": "1.2.0",
            "_view_name": "LayoutView",
            "align_content": null,
            "align_items": null,
            "align_self": null,
            "border": null,
            "bottom": null,
            "display": null,
            "flex": null,
            "flex_flow": null,
            "grid_area": null,
            "grid_auto_columns": null,
            "grid_auto_flow": null,
            "grid_auto_rows": null,
            "grid_column": null,
            "grid_gap": null,
            "grid_row": null,
            "grid_template_areas": null,
            "grid_template_columns": null,
            "grid_template_rows": null,
            "height": null,
            "justify_content": null,
            "justify_items": null,
            "left": null,
            "margin": null,
            "max_height": null,
            "max_width": null,
            "min_height": null,
            "min_width": null,
            "object_fit": null,
            "object_position": null,
            "order": null,
            "overflow": null,
            "overflow_x": null,
            "overflow_y": null,
            "padding": null,
            "right": null,
            "top": null,
            "visibility": null,
            "width": null
          }
        },
        "6d21ea39799d4d72bc1fd687c0147b83": {
          "model_module": "@jupyter-widgets/controls",
          "model_name": "DescriptionStyleModel",
          "model_module_version": "1.5.0",
          "state": {
            "_model_module": "@jupyter-widgets/controls",
            "_model_module_version": "1.5.0",
            "_model_name": "DescriptionStyleModel",
            "_view_count": null,
            "_view_module": "@jupyter-widgets/base",
            "_view_module_version": "1.2.0",
            "_view_name": "StyleView",
            "description_width": ""
          }
        },
        "2b4ac2ab2ffe4db4995a6ce1eb73248a": {
          "model_module": "@jupyter-widgets/controls",
          "model_name": "HBoxModel",
          "model_module_version": "1.5.0",
          "state": {
            "_dom_classes": [],
            "_model_module": "@jupyter-widgets/controls",
            "_model_module_version": "1.5.0",
            "_model_name": "HBoxModel",
            "_view_count": null,
            "_view_module": "@jupyter-widgets/controls",
            "_view_module_version": "1.5.0",
            "_view_name": "HBoxView",
            "box_style": "",
            "children": [
              "IPY_MODEL_eefb6eb34cc7494cafc3307c6afbeaa0",
              "IPY_MODEL_c3e9dd7bfe9e4da2b842f4c62c118b68",
              "IPY_MODEL_f72faa74ff5d41948358fced53e52a81"
            ],
            "layout": "IPY_MODEL_a89dcab39f3745068ef77c5aa61be7ed"
          }
        },
        "eefb6eb34cc7494cafc3307c6afbeaa0": {
          "model_module": "@jupyter-widgets/controls",
          "model_name": "HTMLModel",
          "model_module_version": "1.5.0",
          "state": {
            "_dom_classes": [],
            "_model_module": "@jupyter-widgets/controls",
            "_model_module_version": "1.5.0",
            "_model_name": "HTMLModel",
            "_view_count": null,
            "_view_module": "@jupyter-widgets/controls",
            "_view_module_version": "1.5.0",
            "_view_name": "HTMLView",
            "description": "",
            "description_tooltip": null,
            "layout": "IPY_MODEL_7f27242f42da4371a00f81b904341c08",
            "placeholder": "​",
            "style": "IPY_MODEL_9a4a8db1435d44d5968639a4cf78ed17",
            "value": "Downloading: 100%"
          }
        },
        "c3e9dd7bfe9e4da2b842f4c62c118b68": {
          "model_module": "@jupyter-widgets/controls",
          "model_name": "FloatProgressModel",
          "model_module_version": "1.5.0",
          "state": {
            "_dom_classes": [],
            "_model_module": "@jupyter-widgets/controls",
            "_model_module_version": "1.5.0",
            "_model_name": "FloatProgressModel",
            "_view_count": null,
            "_view_module": "@jupyter-widgets/controls",
            "_view_module_version": "1.5.0",
            "_view_name": "ProgressView",
            "bar_style": "success",
            "description": "",
            "description_tooltip": null,
            "layout": "IPY_MODEL_5ed40631047b408fbfcfcd1c8907c79a",
            "max": 483,
            "min": 0,
            "orientation": "horizontal",
            "style": "IPY_MODEL_aaedfe81980e4f6da1a57e3e8536e231",
            "value": 483
          }
        },
        "f72faa74ff5d41948358fced53e52a81": {
          "model_module": "@jupyter-widgets/controls",
          "model_name": "HTMLModel",
          "model_module_version": "1.5.0",
          "state": {
            "_dom_classes": [],
            "_model_module": "@jupyter-widgets/controls",
            "_model_module_version": "1.5.0",
            "_model_name": "HTMLModel",
            "_view_count": null,
            "_view_module": "@jupyter-widgets/controls",
            "_view_module_version": "1.5.0",
            "_view_name": "HTMLView",
            "description": "",
            "description_tooltip": null,
            "layout": "IPY_MODEL_ae1cc04d2cf84505861a9f2640111ca6",
            "placeholder": "​",
            "style": "IPY_MODEL_0d8aa246c90f4620b558ba84f13f5f7b",
            "value": " 483/483 [00:00&lt;00:00, 45.0kB/s]"
          }
        },
        "a89dcab39f3745068ef77c5aa61be7ed": {
          "model_module": "@jupyter-widgets/base",
          "model_name": "LayoutModel",
          "model_module_version": "1.2.0",
          "state": {
            "_model_module": "@jupyter-widgets/base",
            "_model_module_version": "1.2.0",
            "_model_name": "LayoutModel",
            "_view_count": null,
            "_view_module": "@jupyter-widgets/base",
            "_view_module_version": "1.2.0",
            "_view_name": "LayoutView",
            "align_content": null,
            "align_items": null,
            "align_self": null,
            "border": null,
            "bottom": null,
            "display": null,
            "flex": null,
            "flex_flow": null,
            "grid_area": null,
            "grid_auto_columns": null,
            "grid_auto_flow": null,
            "grid_auto_rows": null,
            "grid_column": null,
            "grid_gap": null,
            "grid_row": null,
            "grid_template_areas": null,
            "grid_template_columns": null,
            "grid_template_rows": null,
            "height": null,
            "justify_content": null,
            "justify_items": null,
            "left": null,
            "margin": null,
            "max_height": null,
            "max_width": null,
            "min_height": null,
            "min_width": null,
            "object_fit": null,
            "object_position": null,
            "order": null,
            "overflow": null,
            "overflow_x": null,
            "overflow_y": null,
            "padding": null,
            "right": null,
            "top": null,
            "visibility": null,
            "width": null
          }
        },
        "7f27242f42da4371a00f81b904341c08": {
          "model_module": "@jupyter-widgets/base",
          "model_name": "LayoutModel",
          "model_module_version": "1.2.0",
          "state": {
            "_model_module": "@jupyter-widgets/base",
            "_model_module_version": "1.2.0",
            "_model_name": "LayoutModel",
            "_view_count": null,
            "_view_module": "@jupyter-widgets/base",
            "_view_module_version": "1.2.0",
            "_view_name": "LayoutView",
            "align_content": null,
            "align_items": null,
            "align_self": null,
            "border": null,
            "bottom": null,
            "display": null,
            "flex": null,
            "flex_flow": null,
            "grid_area": null,
            "grid_auto_columns": null,
            "grid_auto_flow": null,
            "grid_auto_rows": null,
            "grid_column": null,
            "grid_gap": null,
            "grid_row": null,
            "grid_template_areas": null,
            "grid_template_columns": null,
            "grid_template_rows": null,
            "height": null,
            "justify_content": null,
            "justify_items": null,
            "left": null,
            "margin": null,
            "max_height": null,
            "max_width": null,
            "min_height": null,
            "min_width": null,
            "object_fit": null,
            "object_position": null,
            "order": null,
            "overflow": null,
            "overflow_x": null,
            "overflow_y": null,
            "padding": null,
            "right": null,
            "top": null,
            "visibility": null,
            "width": null
          }
        },
        "9a4a8db1435d44d5968639a4cf78ed17": {
          "model_module": "@jupyter-widgets/controls",
          "model_name": "DescriptionStyleModel",
          "model_module_version": "1.5.0",
          "state": {
            "_model_module": "@jupyter-widgets/controls",
            "_model_module_version": "1.5.0",
            "_model_name": "DescriptionStyleModel",
            "_view_count": null,
            "_view_module": "@jupyter-widgets/base",
            "_view_module_version": "1.2.0",
            "_view_name": "StyleView",
            "description_width": ""
          }
        },
        "5ed40631047b408fbfcfcd1c8907c79a": {
          "model_module": "@jupyter-widgets/base",
          "model_name": "LayoutModel",
          "model_module_version": "1.2.0",
          "state": {
            "_model_module": "@jupyter-widgets/base",
            "_model_module_version": "1.2.0",
            "_model_name": "LayoutModel",
            "_view_count": null,
            "_view_module": "@jupyter-widgets/base",
            "_view_module_version": "1.2.0",
            "_view_name": "LayoutView",
            "align_content": null,
            "align_items": null,
            "align_self": null,
            "border": null,
            "bottom": null,
            "display": null,
            "flex": null,
            "flex_flow": null,
            "grid_area": null,
            "grid_auto_columns": null,
            "grid_auto_flow": null,
            "grid_auto_rows": null,
            "grid_column": null,
            "grid_gap": null,
            "grid_row": null,
            "grid_template_areas": null,
            "grid_template_columns": null,
            "grid_template_rows": null,
            "height": null,
            "justify_content": null,
            "justify_items": null,
            "left": null,
            "margin": null,
            "max_height": null,
            "max_width": null,
            "min_height": null,
            "min_width": null,
            "object_fit": null,
            "object_position": null,
            "order": null,
            "overflow": null,
            "overflow_x": null,
            "overflow_y": null,
            "padding": null,
            "right": null,
            "top": null,
            "visibility": null,
            "width": null
          }
        },
        "aaedfe81980e4f6da1a57e3e8536e231": {
          "model_module": "@jupyter-widgets/controls",
          "model_name": "ProgressStyleModel",
          "model_module_version": "1.5.0",
          "state": {
            "_model_module": "@jupyter-widgets/controls",
            "_model_module_version": "1.5.0",
            "_model_name": "ProgressStyleModel",
            "_view_count": null,
            "_view_module": "@jupyter-widgets/base",
            "_view_module_version": "1.2.0",
            "_view_name": "StyleView",
            "bar_color": null,
            "description_width": ""
          }
        },
        "ae1cc04d2cf84505861a9f2640111ca6": {
          "model_module": "@jupyter-widgets/base",
          "model_name": "LayoutModel",
          "model_module_version": "1.2.0",
          "state": {
            "_model_module": "@jupyter-widgets/base",
            "_model_module_version": "1.2.0",
            "_model_name": "LayoutModel",
            "_view_count": null,
            "_view_module": "@jupyter-widgets/base",
            "_view_module_version": "1.2.0",
            "_view_name": "LayoutView",
            "align_content": null,
            "align_items": null,
            "align_self": null,
            "border": null,
            "bottom": null,
            "display": null,
            "flex": null,
            "flex_flow": null,
            "grid_area": null,
            "grid_auto_columns": null,
            "grid_auto_flow": null,
            "grid_auto_rows": null,
            "grid_column": null,
            "grid_gap": null,
            "grid_row": null,
            "grid_template_areas": null,
            "grid_template_columns": null,
            "grid_template_rows": null,
            "height": null,
            "justify_content": null,
            "justify_items": null,
            "left": null,
            "margin": null,
            "max_height": null,
            "max_width": null,
            "min_height": null,
            "min_width": null,
            "object_fit": null,
            "object_position": null,
            "order": null,
            "overflow": null,
            "overflow_x": null,
            "overflow_y": null,
            "padding": null,
            "right": null,
            "top": null,
            "visibility": null,
            "width": null
          }
        },
        "0d8aa246c90f4620b558ba84f13f5f7b": {
          "model_module": "@jupyter-widgets/controls",
          "model_name": "DescriptionStyleModel",
          "model_module_version": "1.5.0",
          "state": {
            "_model_module": "@jupyter-widgets/controls",
            "_model_module_version": "1.5.0",
            "_model_name": "DescriptionStyleModel",
            "_view_count": null,
            "_view_module": "@jupyter-widgets/base",
            "_view_module_version": "1.2.0",
            "_view_name": "StyleView",
            "description_width": ""
          }
        },
        "3445a58666a845849b089c20653d71b0": {
          "model_module": "@jupyter-widgets/controls",
          "model_name": "HBoxModel",
          "model_module_version": "1.5.0",
          "state": {
            "_dom_classes": [],
            "_model_module": "@jupyter-widgets/controls",
            "_model_module_version": "1.5.0",
            "_model_name": "HBoxModel",
            "_view_count": null,
            "_view_module": "@jupyter-widgets/controls",
            "_view_module_version": "1.5.0",
            "_view_name": "HBoxView",
            "box_style": "",
            "children": [
              "IPY_MODEL_6749e13a57ee4b35b6fdc01ca2ebe5ae",
              "IPY_MODEL_af513cb6cb6442b292447c159343ce39",
              "IPY_MODEL_d142e3680b424a359538f618073ede2c"
            ],
            "layout": "IPY_MODEL_3f552e1c566142cc92f10e96573421b8"
          }
        },
        "6749e13a57ee4b35b6fdc01ca2ebe5ae": {
          "model_module": "@jupyter-widgets/controls",
          "model_name": "HTMLModel",
          "model_module_version": "1.5.0",
          "state": {
            "_dom_classes": [],
            "_model_module": "@jupyter-widgets/controls",
            "_model_module_version": "1.5.0",
            "_model_name": "HTMLModel",
            "_view_count": null,
            "_view_module": "@jupyter-widgets/controls",
            "_view_module_version": "1.5.0",
            "_view_name": "HTMLView",
            "description": "",
            "description_tooltip": null,
            "layout": "IPY_MODEL_70378b4750eb4b2f82be801b4c7f8968",
            "placeholder": "​",
            "style": "IPY_MODEL_b57d291a8f2041e4b81ddbe46e3b8c12",
            "value": "Downloading: 100%"
          }
        },
        "af513cb6cb6442b292447c159343ce39": {
          "model_module": "@jupyter-widgets/controls",
          "model_name": "FloatProgressModel",
          "model_module_version": "1.5.0",
          "state": {
            "_dom_classes": [],
            "_model_module": "@jupyter-widgets/controls",
            "_model_module_version": "1.5.0",
            "_model_name": "FloatProgressModel",
            "_view_count": null,
            "_view_module": "@jupyter-widgets/controls",
            "_view_module_version": "1.5.0",
            "_view_name": "ProgressView",
            "bar_style": "success",
            "description": "",
            "description_tooltip": null,
            "layout": "IPY_MODEL_a75c8ed7be3d4455a72b58fb5ca5bd8d",
            "max": 363423424,
            "min": 0,
            "orientation": "horizontal",
            "style": "IPY_MODEL_e244d7183617457bb9e9c9ce25fd432a",
            "value": 363423424
          }
        },
        "d142e3680b424a359538f618073ede2c": {
          "model_module": "@jupyter-widgets/controls",
          "model_name": "HTMLModel",
          "model_module_version": "1.5.0",
          "state": {
            "_dom_classes": [],
            "_model_module": "@jupyter-widgets/controls",
            "_model_module_version": "1.5.0",
            "_model_name": "HTMLModel",
            "_view_count": null,
            "_view_module": "@jupyter-widgets/controls",
            "_view_module_version": "1.5.0",
            "_view_name": "HTMLView",
            "description": "",
            "description_tooltip": null,
            "layout": "IPY_MODEL_25ec6db5f1934a4e87b660c2d00ea33e",
            "placeholder": "​",
            "style": "IPY_MODEL_3462cead4b5048bea6efebd75d713d9b",
            "value": " 347M/347M [00:04&lt;00:00, 82.6MB/s]"
          }
        },
        "3f552e1c566142cc92f10e96573421b8": {
          "model_module": "@jupyter-widgets/base",
          "model_name": "LayoutModel",
          "model_module_version": "1.2.0",
          "state": {
            "_model_module": "@jupyter-widgets/base",
            "_model_module_version": "1.2.0",
            "_model_name": "LayoutModel",
            "_view_count": null,
            "_view_module": "@jupyter-widgets/base",
            "_view_module_version": "1.2.0",
            "_view_name": "LayoutView",
            "align_content": null,
            "align_items": null,
            "align_self": null,
            "border": null,
            "bottom": null,
            "display": null,
            "flex": null,
            "flex_flow": null,
            "grid_area": null,
            "grid_auto_columns": null,
            "grid_auto_flow": null,
            "grid_auto_rows": null,
            "grid_column": null,
            "grid_gap": null,
            "grid_row": null,
            "grid_template_areas": null,
            "grid_template_columns": null,
            "grid_template_rows": null,
            "height": null,
            "justify_content": null,
            "justify_items": null,
            "left": null,
            "margin": null,
            "max_height": null,
            "max_width": null,
            "min_height": null,
            "min_width": null,
            "object_fit": null,
            "object_position": null,
            "order": null,
            "overflow": null,
            "overflow_x": null,
            "overflow_y": null,
            "padding": null,
            "right": null,
            "top": null,
            "visibility": null,
            "width": null
          }
        },
        "70378b4750eb4b2f82be801b4c7f8968": {
          "model_module": "@jupyter-widgets/base",
          "model_name": "LayoutModel",
          "model_module_version": "1.2.0",
          "state": {
            "_model_module": "@jupyter-widgets/base",
            "_model_module_version": "1.2.0",
            "_model_name": "LayoutModel",
            "_view_count": null,
            "_view_module": "@jupyter-widgets/base",
            "_view_module_version": "1.2.0",
            "_view_name": "LayoutView",
            "align_content": null,
            "align_items": null,
            "align_self": null,
            "border": null,
            "bottom": null,
            "display": null,
            "flex": null,
            "flex_flow": null,
            "grid_area": null,
            "grid_auto_columns": null,
            "grid_auto_flow": null,
            "grid_auto_rows": null,
            "grid_column": null,
            "grid_gap": null,
            "grid_row": null,
            "grid_template_areas": null,
            "grid_template_columns": null,
            "grid_template_rows": null,
            "height": null,
            "justify_content": null,
            "justify_items": null,
            "left": null,
            "margin": null,
            "max_height": null,
            "max_width": null,
            "min_height": null,
            "min_width": null,
            "object_fit": null,
            "object_position": null,
            "order": null,
            "overflow": null,
            "overflow_x": null,
            "overflow_y": null,
            "padding": null,
            "right": null,
            "top": null,
            "visibility": null,
            "width": null
          }
        },
        "b57d291a8f2041e4b81ddbe46e3b8c12": {
          "model_module": "@jupyter-widgets/controls",
          "model_name": "DescriptionStyleModel",
          "model_module_version": "1.5.0",
          "state": {
            "_model_module": "@jupyter-widgets/controls",
            "_model_module_version": "1.5.0",
            "_model_name": "DescriptionStyleModel",
            "_view_count": null,
            "_view_module": "@jupyter-widgets/base",
            "_view_module_version": "1.2.0",
            "_view_name": "StyleView",
            "description_width": ""
          }
        },
        "a75c8ed7be3d4455a72b58fb5ca5bd8d": {
          "model_module": "@jupyter-widgets/base",
          "model_name": "LayoutModel",
          "model_module_version": "1.2.0",
          "state": {
            "_model_module": "@jupyter-widgets/base",
            "_model_module_version": "1.2.0",
            "_model_name": "LayoutModel",
            "_view_count": null,
            "_view_module": "@jupyter-widgets/base",
            "_view_module_version": "1.2.0",
            "_view_name": "LayoutView",
            "align_content": null,
            "align_items": null,
            "align_self": null,
            "border": null,
            "bottom": null,
            "display": null,
            "flex": null,
            "flex_flow": null,
            "grid_area": null,
            "grid_auto_columns": null,
            "grid_auto_flow": null,
            "grid_auto_rows": null,
            "grid_column": null,
            "grid_gap": null,
            "grid_row": null,
            "grid_template_areas": null,
            "grid_template_columns": null,
            "grid_template_rows": null,
            "height": null,
            "justify_content": null,
            "justify_items": null,
            "left": null,
            "margin": null,
            "max_height": null,
            "max_width": null,
            "min_height": null,
            "min_width": null,
            "object_fit": null,
            "object_position": null,
            "order": null,
            "overflow": null,
            "overflow_x": null,
            "overflow_y": null,
            "padding": null,
            "right": null,
            "top": null,
            "visibility": null,
            "width": null
          }
        },
        "e244d7183617457bb9e9c9ce25fd432a": {
          "model_module": "@jupyter-widgets/controls",
          "model_name": "ProgressStyleModel",
          "model_module_version": "1.5.0",
          "state": {
            "_model_module": "@jupyter-widgets/controls",
            "_model_module_version": "1.5.0",
            "_model_name": "ProgressStyleModel",
            "_view_count": null,
            "_view_module": "@jupyter-widgets/base",
            "_view_module_version": "1.2.0",
            "_view_name": "StyleView",
            "bar_color": null,
            "description_width": ""
          }
        },
        "25ec6db5f1934a4e87b660c2d00ea33e": {
          "model_module": "@jupyter-widgets/base",
          "model_name": "LayoutModel",
          "model_module_version": "1.2.0",
          "state": {
            "_model_module": "@jupyter-widgets/base",
            "_model_module_version": "1.2.0",
            "_model_name": "LayoutModel",
            "_view_count": null,
            "_view_module": "@jupyter-widgets/base",
            "_view_module_version": "1.2.0",
            "_view_name": "LayoutView",
            "align_content": null,
            "align_items": null,
            "align_self": null,
            "border": null,
            "bottom": null,
            "display": null,
            "flex": null,
            "flex_flow": null,
            "grid_area": null,
            "grid_auto_columns": null,
            "grid_auto_flow": null,
            "grid_auto_rows": null,
            "grid_column": null,
            "grid_gap": null,
            "grid_row": null,
            "grid_template_areas": null,
            "grid_template_columns": null,
            "grid_template_rows": null,
            "height": null,
            "justify_content": null,
            "justify_items": null,
            "left": null,
            "margin": null,
            "max_height": null,
            "max_width": null,
            "min_height": null,
            "min_width": null,
            "object_fit": null,
            "object_position": null,
            "order": null,
            "overflow": null,
            "overflow_x": null,
            "overflow_y": null,
            "padding": null,
            "right": null,
            "top": null,
            "visibility": null,
            "width": null
          }
        },
        "3462cead4b5048bea6efebd75d713d9b": {
          "model_module": "@jupyter-widgets/controls",
          "model_name": "DescriptionStyleModel",
          "model_module_version": "1.5.0",
          "state": {
            "_model_module": "@jupyter-widgets/controls",
            "_model_module_version": "1.5.0",
            "_model_name": "DescriptionStyleModel",
            "_view_count": null,
            "_view_module": "@jupyter-widgets/base",
            "_view_module_version": "1.2.0",
            "_view_name": "StyleView",
            "description_width": ""
          }
        }
      }
    }
  },
  "cells": [
    {
      "cell_type": "markdown",
      "source": [
        "# Goodreads Books Review Rating Prediction\n",
        "(https://www.kaggle.com/competitions/goodreads-books-reviews-290312/)\n",
        "---\n",
        "\n",
        "> Reviews are a good way to judge the quality of any product, whether it's books, clothes, technology, or anything else. When you want to buy something online these days, the first thing that comes to mind is the reviews from past buyers and the overall rating the product has received.\n",
        "\n",
        "> Reader feedback, whether positive or negative, five stars or one star, will encourage the product owner to make improvements.\n",
        "\n",
        "> Reader connection and engagement will be encouraged by book reviews, whether they be left on Amazon, Goodreads, or social media. Readers must determine whether or not other readers are enjoying the book.\n",
        "\n",
        "\n"
      ],
      "metadata": {
        "id": "-Q_i3G6lZSYx"
      }
    },
    {
      "cell_type": "markdown",
      "source": [
        "Here are the columns of the dataset\n",
        "\n",
        "\n",
        "*   book_id - Id of Book\n",
        "\n",
        "*   review_id - Id of review\n",
        "\n",
        "*   rating - rating from 0 to 5\n",
        "\n",
        "*   review_text - review text\n",
        "\n",
        "*   date_added - date added\n",
        "\n",
        "*   date_updated - date updated\n",
        "\n",
        "*   read_at - read at\n",
        "\n",
        "\n",
        "*  started_at - started at\n",
        "\n",
        "\n",
        "*   n_votes - no. of votes\n",
        "\n",
        "\n",
        "*   n_comments - no. of comments\n",
        "\n"
      ],
      "metadata": {
        "id": "QNLBLEnbZtLn"
      }
    },
    {
      "cell_type": "markdown",
      "source": [
        "**Model (BERT and Fine Tuning)**\n",
        "\n",
        "- BERT is designed as an adaptable model that requires fine-tuning to handle specific tasks, such as sentiment analysis.\n",
        "\n",
        "- Fine-tuning involves adapting this pre-trained model to a related task, known as a downstream task, without needing any changes to the models architecture.\n",
        "\n",
        "- Google originally pre-trained BERT at a cost of about $7,000 over five days using 16 TPUs. This pre-training allows users to achieve better performance with less time and expense by leveraging the pre-trained model.\n",
        "\n",
        "- We utilize DistilBERT, a streamlined and quicker variant of BERT, through the Hugging Face Transformers package. This Python library provides access to various pre-trained NLP models, enabling efficient and effective model deployment."
      ],
      "metadata": {
        "id": "GNs-pgGdaO24"
      }
    },
    {
      "cell_type": "markdown",
      "source": [
        "# **Author : Firda Puspita Devi**"
      ],
      "metadata": {
        "id": "vCEwHBQrai__"
      }
    },
    {
      "cell_type": "markdown",
      "source": [
        "## Install Huggingface Transformers"
      ],
      "metadata": {
        "id": "ch4ZbzvUavaA"
      }
    },
    {
      "cell_type": "code",
      "execution_count": 9,
      "metadata": {
        "colab": {
          "base_uri": "https://localhost:8080/"
        },
        "id": "5SP5_PKcY94Q",
        "outputId": "de79a12f-35fa-4938-e37c-93b36e2f3f95"
      },
      "outputs": [
        {
          "output_type": "stream",
          "name": "stdout",
          "text": [
            "Requirement already satisfied: transformers in /usr/local/lib/python3.10/dist-packages (4.18.0)\n",
            "Requirement already satisfied: filelock in /usr/local/lib/python3.10/dist-packages (from transformers) (3.14.0)\n",
            "Requirement already satisfied: huggingface-hub<1.0,>=0.1.0 in /usr/local/lib/python3.10/dist-packages (from transformers) (0.23.0)\n",
            "Requirement already satisfied: numpy>=1.17 in /usr/local/lib/python3.10/dist-packages (from transformers) (1.25.2)\n",
            "Requirement already satisfied: packaging>=20.0 in /usr/local/lib/python3.10/dist-packages (from transformers) (24.0)\n",
            "Requirement already satisfied: pyyaml>=5.1 in /usr/local/lib/python3.10/dist-packages (from transformers) (6.0.1)\n",
            "Requirement already satisfied: regex!=2019.12.17 in /usr/local/lib/python3.10/dist-packages (from transformers) (2023.12.25)\n",
            "Requirement already satisfied: requests in /usr/local/lib/python3.10/dist-packages (from transformers) (2.31.0)\n",
            "Requirement already satisfied: sacremoses in /usr/local/lib/python3.10/dist-packages (from transformers) (0.1.1)\n",
            "Requirement already satisfied: tokenizers!=0.11.3,<0.13,>=0.11.1 in /usr/local/lib/python3.10/dist-packages (from transformers) (0.12.1)\n",
            "Requirement already satisfied: tqdm>=4.27 in /usr/local/lib/python3.10/dist-packages (from transformers) (4.66.4)\n",
            "Requirement already satisfied: fsspec>=2023.5.0 in /usr/local/lib/python3.10/dist-packages (from huggingface-hub<1.0,>=0.1.0->transformers) (2023.6.0)\n",
            "Requirement already satisfied: typing-extensions>=3.7.4.3 in /usr/local/lib/python3.10/dist-packages (from huggingface-hub<1.0,>=0.1.0->transformers) (4.11.0)\n",
            "Requirement already satisfied: charset-normalizer<4,>=2 in /usr/local/lib/python3.10/dist-packages (from requests->transformers) (3.3.2)\n",
            "Requirement already satisfied: idna<4,>=2.5 in /usr/local/lib/python3.10/dist-packages (from requests->transformers) (3.7)\n",
            "Requirement already satisfied: urllib3<3,>=1.21.1 in /usr/local/lib/python3.10/dist-packages (from requests->transformers) (2.0.7)\n",
            "Requirement already satisfied: certifi>=2017.4.17 in /usr/local/lib/python3.10/dist-packages (from requests->transformers) (2024.2.2)\n",
            "Requirement already satisfied: click in /usr/local/lib/python3.10/dist-packages (from sacremoses->transformers) (8.1.7)\n",
            "Requirement already satisfied: joblib in /usr/local/lib/python3.10/dist-packages (from sacremoses->transformers) (1.4.2)\n"
          ]
        }
      ],
      "source": [
        "!pip install transformers"
      ]
    },
    {
      "cell_type": "markdown",
      "source": [
        "## Configuration\n",
        "\n",
        "First, we will need to enable GPUs for the notebook:\n",
        "\n",
        "Navigate to Edit→Notebook Settings\n",
        "select GPU from the Hardware Accelerator drop-down"
      ],
      "metadata": {
        "id": "zJKGUuKsa9fu"
      }
    },
    {
      "cell_type": "code",
      "source": [
        "# import tensorflow as tf\n",
        "\n",
        "# num_gpus_available = len(tf.config.experimental.list_physical_devices('GPU'))\n",
        "# print(\"Num GPUs Available: \", num_gpus_available)\n",
        "# assert num_gpus_available > 0"
      ],
      "metadata": {
        "id": "VCwsZ2oXbJ75"
      },
      "execution_count": 10,
      "outputs": []
    },
    {
      "cell_type": "markdown",
      "source": [
        "## Install Huggingface Transformers"
      ],
      "metadata": {
        "id": "QVN1D2qHbsx2"
      }
    },
    {
      "cell_type": "code",
      "source": [
        "!pip install transformers"
      ],
      "metadata": {
        "colab": {
          "base_uri": "https://localhost:8080/"
        },
        "id": "FiP14KjOb0op",
        "outputId": "b75de4b0-e744-4e33-a490-5cc7b9583e75"
      },
      "execution_count": 11,
      "outputs": [
        {
          "output_type": "stream",
          "name": "stdout",
          "text": [
            "Requirement already satisfied: transformers in /usr/local/lib/python3.10/dist-packages (4.18.0)\n",
            "Requirement already satisfied: filelock in /usr/local/lib/python3.10/dist-packages (from transformers) (3.14.0)\n",
            "Requirement already satisfied: huggingface-hub<1.0,>=0.1.0 in /usr/local/lib/python3.10/dist-packages (from transformers) (0.23.0)\n",
            "Requirement already satisfied: numpy>=1.17 in /usr/local/lib/python3.10/dist-packages (from transformers) (1.25.2)\n",
            "Requirement already satisfied: packaging>=20.0 in /usr/local/lib/python3.10/dist-packages (from transformers) (24.0)\n",
            "Requirement already satisfied: pyyaml>=5.1 in /usr/local/lib/python3.10/dist-packages (from transformers) (6.0.1)\n",
            "Requirement already satisfied: regex!=2019.12.17 in /usr/local/lib/python3.10/dist-packages (from transformers) (2023.12.25)\n",
            "Requirement already satisfied: requests in /usr/local/lib/python3.10/dist-packages (from transformers) (2.31.0)\n",
            "Requirement already satisfied: sacremoses in /usr/local/lib/python3.10/dist-packages (from transformers) (0.1.1)\n",
            "Requirement already satisfied: tokenizers!=0.11.3,<0.13,>=0.11.1 in /usr/local/lib/python3.10/dist-packages (from transformers) (0.12.1)\n",
            "Requirement already satisfied: tqdm>=4.27 in /usr/local/lib/python3.10/dist-packages (from transformers) (4.66.4)\n",
            "Requirement already satisfied: fsspec>=2023.5.0 in /usr/local/lib/python3.10/dist-packages (from huggingface-hub<1.0,>=0.1.0->transformers) (2023.6.0)\n",
            "Requirement already satisfied: typing-extensions>=3.7.4.3 in /usr/local/lib/python3.10/dist-packages (from huggingface-hub<1.0,>=0.1.0->transformers) (4.11.0)\n",
            "Requirement already satisfied: charset-normalizer<4,>=2 in /usr/local/lib/python3.10/dist-packages (from requests->transformers) (3.3.2)\n",
            "Requirement already satisfied: idna<4,>=2.5 in /usr/local/lib/python3.10/dist-packages (from requests->transformers) (3.7)\n",
            "Requirement already satisfied: urllib3<3,>=1.21.1 in /usr/local/lib/python3.10/dist-packages (from requests->transformers) (2.0.7)\n",
            "Requirement already satisfied: certifi>=2017.4.17 in /usr/local/lib/python3.10/dist-packages (from requests->transformers) (2024.2.2)\n",
            "Requirement already satisfied: click in /usr/local/lib/python3.10/dist-packages (from sacremoses->transformers) (8.1.7)\n",
            "Requirement already satisfied: joblib in /usr/local/lib/python3.10/dist-packages (from sacremoses->transformers) (1.4.2)\n"
          ]
        }
      ]
    },
    {
      "cell_type": "code",
      "source": [
        "!pip show tensorflow transformers"
      ],
      "metadata": {
        "colab": {
          "base_uri": "https://localhost:8080/"
        },
        "id": "RHiPreIdjUSE",
        "outputId": "310e40f5-c64a-47ae-ffc1-bb02b8e7c177"
      },
      "execution_count": 12,
      "outputs": [
        {
          "output_type": "stream",
          "name": "stdout",
          "text": [
            "Name: tensorflow\n",
            "Version: 2.8.0\n",
            "Summary: TensorFlow is an open source machine learning framework for everyone.\n",
            "Home-page: https://www.tensorflow.org/\n",
            "Author: Google Inc.\n",
            "Author-email: packages@tensorflow.org\n",
            "License: Apache 2.0\n",
            "Location: /usr/local/lib/python3.10/dist-packages\n",
            "Requires: absl-py, astunparse, flatbuffers, gast, google-pasta, grpcio, h5py, keras, keras-preprocessing, libclang, numpy, opt-einsum, protobuf, setuptools, six, tensorboard, tensorflow-io-gcs-filesystem, termcolor, tf-estimator-nightly, typing-extensions, wrapt\n",
            "Required-by: dopamine_rl, tf_keras\n",
            "---\n",
            "Name: transformers\n",
            "Version: 4.18.0\n",
            "Summary: State-of-the-art Natural Language Processing for TensorFlow 2.0 and PyTorch\n",
            "Home-page: https://github.com/huggingface/transformers\n",
            "Author: Thomas Wolf, Lysandre Debut, Victor Sanh, Julien Chaumond, Sam Shleifer, Patrick von Platen, Sylvain Gugger, Suraj Patil, Stas Bekman, Google AI Language Team Authors, Open AI team Authors, Facebook AI Authors, Carnegie Mellon University Authors\n",
            "Author-email: thomas@huggingface.co\n",
            "License: Apache\n",
            "Location: /usr/local/lib/python3.10/dist-packages\n",
            "Requires: filelock, huggingface-hub, numpy, packaging, pyyaml, regex, requests, sacremoses, tokenizers, tqdm\n",
            "Required-by: \n"
          ]
        }
      ]
    },
    {
      "cell_type": "code",
      "source": [
        "!pip install keras-tuner"
      ],
      "metadata": {
        "colab": {
          "base_uri": "https://localhost:8080/"
        },
        "id": "0BQDvWoVs1s9",
        "outputId": "0cd9f1e2-5052-491c-d489-86613b7fce69"
      },
      "execution_count": 14,
      "outputs": [
        {
          "output_type": "stream",
          "name": "stdout",
          "text": [
            "Collecting keras-tuner\n",
            "  Downloading keras_tuner-1.4.7-py3-none-any.whl (129 kB)\n",
            "\u001b[?25l     \u001b[90m━━━━━━━━━━━━━━━━━━━━━━━━━━━━━━━━━━━━━━━━\u001b[0m \u001b[32m0.0/129.1 kB\u001b[0m \u001b[31m?\u001b[0m eta \u001b[36m-:--:--\u001b[0m\r\u001b[2K     \u001b[90m━━━━━━━━━━━━━━━━━━━━━━━━━━━━━━━━━━━━━━━━\u001b[0m \u001b[32m129.1/129.1 kB\u001b[0m \u001b[31m3.7 MB/s\u001b[0m eta \u001b[36m0:00:00\u001b[0m\n",
            "\u001b[?25hRequirement already satisfied: keras in /usr/local/lib/python3.10/dist-packages (from keras-tuner) (2.8.0)\n",
            "Requirement already satisfied: packaging in /usr/local/lib/python3.10/dist-packages (from keras-tuner) (24.0)\n",
            "Requirement already satisfied: requests in /usr/local/lib/python3.10/dist-packages (from keras-tuner) (2.31.0)\n",
            "Collecting kt-legacy (from keras-tuner)\n",
            "  Downloading kt_legacy-1.0.5-py3-none-any.whl (9.6 kB)\n",
            "Requirement already satisfied: charset-normalizer<4,>=2 in /usr/local/lib/python3.10/dist-packages (from requests->keras-tuner) (3.3.2)\n",
            "Requirement already satisfied: idna<4,>=2.5 in /usr/local/lib/python3.10/dist-packages (from requests->keras-tuner) (3.7)\n",
            "Requirement already satisfied: urllib3<3,>=1.21.1 in /usr/local/lib/python3.10/dist-packages (from requests->keras-tuner) (2.0.7)\n",
            "Requirement already satisfied: certifi>=2017.4.17 in /usr/local/lib/python3.10/dist-packages (from requests->keras-tuner) (2024.2.2)\n",
            "Installing collected packages: kt-legacy, keras-tuner\n",
            "Successfully installed keras-tuner-1.4.7 kt-legacy-1.0.5\n"
          ]
        }
      ]
    },
    {
      "cell_type": "markdown",
      "source": [
        "## Dependencies"
      ],
      "metadata": {
        "id": "y5KQWSqba2Sm"
      }
    },
    {
      "cell_type": "code",
      "source": [
        "from transformers import DistilBertTokenizerFast\n",
        "from transformers import TFDistilBertForSequenceClassification\n",
        "from io import StringIO\n",
        "from scipy import stats\n",
        "from wordcloud import WordCloud\n",
        "from collections import Counter\n",
        "from sklearn.model_selection import train_test_split\n",
        "from tensorflow.keras.optimizers import Adam\n",
        "from keras_tuner import RandomSearch, Objective\n",
        "\n",
        "\n",
        "import tensorflow as tf\n",
        "import json\n",
        "import pandas as pd\n",
        "import numpy as np\n",
        "import seaborn as sns\n",
        "import matplotlib.pyplot as plt"
      ],
      "metadata": {
        "id": "GLdnmDDrazft"
      },
      "execution_count": 15,
      "outputs": []
    },
    {
      "cell_type": "code",
      "source": [
        "from google.colab import drive\n",
        "drive.mount('/content/drive')"
      ],
      "metadata": {
        "colab": {
          "base_uri": "https://localhost:8080/"
        },
        "id": "O2HaAwXEcm-E",
        "outputId": "9801e264-b10a-4609-fece-b7d358b4774c"
      },
      "execution_count": 16,
      "outputs": [
        {
          "output_type": "stream",
          "name": "stdout",
          "text": [
            "Mounted at /content/drive\n"
          ]
        }
      ]
    },
    {
      "cell_type": "markdown",
      "source": [
        "## Load data from Kaggle\n"
      ],
      "metadata": {
        "id": "oD6TG1wQcfUG"
      }
    },
    {
      "cell_type": "code",
      "source": [
        "!pip install kaggle\n",
        "!mkdir -p ~/.kaggle\n",
        "!cp \"/content/drive/MyDrive/Bootcamp/Day 33 - Checkpoint 1/kaggle.json\" ~/.kaggle/kaggle.json\n",
        "!chmod 600 ~/.kaggle/kaggle.json"
      ],
      "metadata": {
        "colab": {
          "base_uri": "https://localhost:8080/"
        },
        "id": "KQWWmWPscDe6",
        "outputId": "56dc6dd2-136a-4e7b-bfe9-2f7156979e7e"
      },
      "execution_count": 17,
      "outputs": [
        {
          "output_type": "stream",
          "name": "stdout",
          "text": [
            "Requirement already satisfied: kaggle in /usr/local/lib/python3.10/dist-packages (1.6.14)\n",
            "Requirement already satisfied: six>=1.10 in /usr/local/lib/python3.10/dist-packages (from kaggle) (1.16.0)\n",
            "Requirement already satisfied: certifi>=2023.7.22 in /usr/local/lib/python3.10/dist-packages (from kaggle) (2024.2.2)\n",
            "Requirement already satisfied: python-dateutil in /usr/local/lib/python3.10/dist-packages (from kaggle) (2.8.2)\n",
            "Requirement already satisfied: requests in /usr/local/lib/python3.10/dist-packages (from kaggle) (2.31.0)\n",
            "Requirement already satisfied: tqdm in /usr/local/lib/python3.10/dist-packages (from kaggle) (4.66.4)\n",
            "Requirement already satisfied: python-slugify in /usr/local/lib/python3.10/dist-packages (from kaggle) (8.0.4)\n",
            "Requirement already satisfied: urllib3 in /usr/local/lib/python3.10/dist-packages (from kaggle) (2.0.7)\n",
            "Requirement already satisfied: bleach in /usr/local/lib/python3.10/dist-packages (from kaggle) (6.1.0)\n",
            "Requirement already satisfied: webencodings in /usr/local/lib/python3.10/dist-packages (from bleach->kaggle) (0.5.1)\n",
            "Requirement already satisfied: text-unidecode>=1.3 in /usr/local/lib/python3.10/dist-packages (from python-slugify->kaggle) (1.3)\n",
            "Requirement already satisfied: charset-normalizer<4,>=2 in /usr/local/lib/python3.10/dist-packages (from requests->kaggle) (3.3.2)\n",
            "Requirement already satisfied: idna<4,>=2.5 in /usr/local/lib/python3.10/dist-packages (from requests->kaggle) (3.7)\n"
          ]
        }
      ]
    },
    {
      "cell_type": "code",
      "source": [
        "!kaggle competitions download -c goodreads-books-reviews-290312"
      ],
      "metadata": {
        "colab": {
          "base_uri": "https://localhost:8080/"
        },
        "id": "Lq230Cegc_T-",
        "outputId": "15bf0f89-6516-403e-ee11-1f5c03ca48ab"
      },
      "execution_count": 18,
      "outputs": [
        {
          "output_type": "stream",
          "name": "stdout",
          "text": [
            "Downloading goodreads-books-reviews-290312.zip to /content\n",
            " 98% 625M/635M [00:05<00:00, 145MB/s]\n",
            "100% 635M/635M [00:05<00:00, 121MB/s]\n"
          ]
        }
      ]
    },
    {
      "cell_type": "code",
      "source": [
        "!unzip goodreads-books-reviews-290312.zip -d \"/content/drive/MyDrive/Bootcamp/Day 33 - Checkpoint 1\""
      ],
      "metadata": {
        "colab": {
          "base_uri": "https://localhost:8080/"
        },
        "id": "ZuX_gGzWdSTR",
        "outputId": "e8277550-2a55-4d3b-dd02-a8f56925142f"
      },
      "execution_count": 19,
      "outputs": [
        {
          "output_type": "stream",
          "name": "stdout",
          "text": [
            "Archive:  goodreads-books-reviews-290312.zip\n",
            "replace /content/drive/MyDrive/Bootcamp/Day 33 - Checkpoint 1/goodreads_sample_submission.csv? [y]es, [n]o, [A]ll, [N]one, [r]ename: n\n",
            "replace /content/drive/MyDrive/Bootcamp/Day 33 - Checkpoint 1/goodreads_test.csv? [y]es, [n]o, [A]ll, [N]one, [r]ename: n\n",
            "replace /content/drive/MyDrive/Bootcamp/Day 33 - Checkpoint 1/goodreads_train.csv? [y]es, [n]o, [A]ll, [N]one, [r]ename: n\n"
          ]
        }
      ]
    },
    {
      "cell_type": "markdown",
      "source": [
        "## Limit to get only 20k records of train data or 2% of each rating"
      ],
      "metadata": {
        "id": "0X8Xra1vd5Wa"
      }
    },
    {
      "cell_type": "code",
      "source": [
        "data = pd.read_csv(\"/content/drive/MyDrive/Bootcamp/Day 33 - Checkpoint 1/goodreads_train.csv\")\n",
        "\n",
        "total_records_needed = 20000\n",
        "\n",
        "# Calculate the total number of records for each rating\n",
        "rating_counts = data['rating'].value_counts()\n",
        "\n",
        "# Calculate 1% of each rank's total number\n",
        "rating_sample_sizes = (rating_counts * 0.02).astype(int)\n",
        "\n",
        "# Here we scale down the sample sizes proportionally if the sum exceeds 10.000\n",
        "if rating_sample_sizes.sum() > total_records_needed:\n",
        "    scaling_factor = total_records_needed / rating_sample_sizes.sum()\n",
        "    rating_sample_sizes = (rating_sample_sizes * scaling_factor).astype(int)\n",
        "\n",
        "\n",
        "# Sampling data according to calculated sample sizes\n",
        "samples = []\n",
        "for rating, size in rating_sample_sizes.items():\n",
        "    rating_samples = data[data['rating'] == rating].sample(n=size, random_state=1)\n",
        "    samples.append(rating_samples)\n",
        "\n",
        "# Concatenate all samples into a new DataFrame\n",
        "data = pd.concat(samples)\n",
        "\n",
        "\n",
        "print(rating_sample_sizes)"
      ],
      "metadata": {
        "colab": {
          "base_uri": "https://localhost:8080/"
        },
        "id": "KJNYh6t9dgAr",
        "outputId": "8a9bb188-1df9-4d16-b4fb-9ee9cd36ccf9"
      },
      "execution_count": 20,
      "outputs": [
        {
          "output_type": "stream",
          "name": "stdout",
          "text": [
            "rating\n",
            "4    6273\n",
            "5    5300\n",
            "3    3779\n",
            "2    1452\n",
            "0     619\n",
            "1     574\n",
            "Name: count, dtype: int64\n"
          ]
        }
      ]
    },
    {
      "cell_type": "code",
      "source": [
        "# Validate the number of records and proportions\n",
        "print(\"Total records sampled:\", data.shape[0])\n",
        "print(data['rating'].value_counts(normalize=True))  # Check the percentage distribution"
      ],
      "metadata": {
        "colab": {
          "base_uri": "https://localhost:8080/"
        },
        "id": "4hbjgaoweWwq",
        "outputId": "1a60777f-ce7d-40f6-c734-d07773a6f61e"
      },
      "execution_count": 21,
      "outputs": [
        {
          "output_type": "stream",
          "name": "stdout",
          "text": [
            "Total records sampled: 17997\n",
            "rating\n",
            "4    0.348558\n",
            "5    0.294494\n",
            "3    0.209979\n",
            "2    0.080680\n",
            "0    0.034395\n",
            "1    0.031894\n",
            "Name: proportion, dtype: float64\n"
          ]
        }
      ]
    },
    {
      "cell_type": "code",
      "source": [
        "data.head(10)"
      ],
      "metadata": {
        "colab": {
          "base_uri": "https://localhost:8080/",
          "height": 1000
        },
        "id": "XGB9aX83njVb",
        "outputId": "9224d58e-5f9f-4b9d-c195-edf71fd1e116"
      },
      "execution_count": 22,
      "outputs": [
        {
          "output_type": "execute_result",
          "data": {
            "text/plain": [
              "                                 user_id   book_id  \\\n",
              "329091  57fa81f98fad08b7cbb1ed6bded963fa  13412515   \n",
              "728118  ffa5094acb2bca8fc8655538e60c400e  21469090   \n",
              "631878  b1f531936f47624ab657289b22317473  17661699   \n",
              "291346  b4e0d01dc49db4b9d1a8d0466f4a3072  11454587   \n",
              "836206  d644a5428ea2450651f68935d66425db   6148028   \n",
              "246839  bd9347e112ea93e4efb889e24f825626     42899   \n",
              "127797  ea1d434bf3285477ecdcdb4e09174403    183660   \n",
              "234979  4c445b4b34fc8f4ada2ddcd819a05b58   6777616   \n",
              "332248  c4ccb23db8dee77cd923de30d836afae  10558533   \n",
              "725231  59a514bb7433cc389b2657b6c0c2d3bb  13564634   \n",
              "\n",
              "                               review_id  rating  \\\n",
              "329091  dcdfc4fca4e42ad34a1396d6c85d9e69       4   \n",
              "728118  2f7f06bbce07261f1c639a0473e9ca06       4   \n",
              "631878  f63d6177217080f67b2ffa005e662917       4   \n",
              "291346  6e87495c835caafdd6e1ee3d5fceb7d1       4   \n",
              "836206  396d2fa0a1dd1802440462ecc4665fd1       4   \n",
              "246839  e484a03028db34f7bcd4d26e771f839c       4   \n",
              "127797  49c77fbaa4558f41fbf022cd37b2eea4       4   \n",
              "234979  43ce000161e07014c1d805471cbf73a1       4   \n",
              "332248  106dca9e8f2ad428ce5701293fafb0a0       4   \n",
              "725231  cb467ef010f5e8591018d081934b9d70       4   \n",
              "\n",
              "                                              review_text  \\\n",
              "329091  I figured this was a trend of all the mend tha...   \n",
              "728118  So much fun! Not sure I'm going to like as muc...   \n",
              "631878  Rainy Dey heads off to college as a freshman. ...   \n",
              "291346  So you know what I was just thinking today? Ho...   \n",
              "836206  A good continuation from the previous book. Br...   \n",
              "246839  You know, I resisted the whole vampire/werewol...   \n",
              "127797  An interesting retelling of Snow White. Sure, ...   \n",
              "234979  Like so many of the mysteries I love, this one...   \n",
              "332248  The German edition cover is so much better. An...   \n",
              "725231  When I originally saw this book I was not inte...   \n",
              "\n",
              "                            date_added                    date_updated  \\\n",
              "329091  Fri Jan 13 02:11:22 -0800 2017  Fri Jan 13 02:18:00 -0800 2017   \n",
              "728118  Sun Dec 21 22:49:44 -0800 2014  Mon May 04 21:41:01 -0700 2015   \n",
              "631878  Mon Jan 06 06:31:21 -0800 2014  Sat Jun 24 11:00:04 -0700 2017   \n",
              "291346  Sun Jul 28 07:36:13 -0700 2013  Thu Aug 08 19:45:18 -0700 2013   \n",
              "836206  Tue Jan 14 10:18:43 -0800 2014  Sun Aug 10 17:51:09 -0700 2014   \n",
              "246839  Sun Jul 01 20:50:17 -0700 2007  Sun Jul 01 21:03:20 -0700 2007   \n",
              "127797  Wed Dec 02 15:50:15 -0800 2009  Tue Dec 15 19:09:59 -0800 2009   \n",
              "234979  Sat Jul 09 18:51:04 -0700 2016  Fri Aug 12 06:14:57 -0700 2016   \n",
              "332248  Mon Apr 01 08:07:01 -0700 2013  Fri Jun 07 12:19:32 -0700 2013   \n",
              "725231  Thu May 10 07:23:06 -0700 2012  Sun Jun 24 07:58:52 -0700 2012   \n",
              "\n",
              "                               read_at                      started_at  \\\n",
              "329091  Fri Jan 13 00:00:00 -0800 2017                             NaN   \n",
              "728118  Fri Dec 05 00:00:00 -0800 2014                             NaN   \n",
              "631878  Thu Jan 16 00:00:00 -0800 2014  Wed Jan 15 00:00:00 -0800 2014   \n",
              "291346  Thu Aug 08 00:00:00 -0700 2013  Tue Aug 06 00:00:00 -0700 2013   \n",
              "836206  Thu Aug 07 00:00:00 -0700 2014  Tue Aug 05 00:00:00 -0700 2014   \n",
              "246839                             NaN                             NaN   \n",
              "127797  Tue Dec 15 00:00:00 -0800 2009                             NaN   \n",
              "234979  Thu Aug 11 00:00:00 -0700 2016  Sat Jul 09 00:00:00 -0700 2016   \n",
              "332248  Fri Jun 07 12:19:32 -0700 2013  Mon Jun 03 00:00:00 -0700 2013   \n",
              "725231  Mon Jun 04 00:00:00 -0700 2012  Thu May 31 00:00:00 -0700 2012   \n",
              "\n",
              "        n_votes  n_comments  \n",
              "329091        1           0  \n",
              "728118        2           0  \n",
              "631878        0           0  \n",
              "291346        0           0  \n",
              "836206        0           0  \n",
              "246839        0           0  \n",
              "127797        0           1  \n",
              "234979        1           0  \n",
              "332248        0           2  \n",
              "725231        1           0  "
            ],
            "text/html": [
              "\n",
              "  <div id=\"df-4e447036-65c3-4243-bb88-d49aa95eec01\" class=\"colab-df-container\">\n",
              "    <div>\n",
              "<style scoped>\n",
              "    .dataframe tbody tr th:only-of-type {\n",
              "        vertical-align: middle;\n",
              "    }\n",
              "\n",
              "    .dataframe tbody tr th {\n",
              "        vertical-align: top;\n",
              "    }\n",
              "\n",
              "    .dataframe thead th {\n",
              "        text-align: right;\n",
              "    }\n",
              "</style>\n",
              "<table border=\"1\" class=\"dataframe\">\n",
              "  <thead>\n",
              "    <tr style=\"text-align: right;\">\n",
              "      <th></th>\n",
              "      <th>user_id</th>\n",
              "      <th>book_id</th>\n",
              "      <th>review_id</th>\n",
              "      <th>rating</th>\n",
              "      <th>review_text</th>\n",
              "      <th>date_added</th>\n",
              "      <th>date_updated</th>\n",
              "      <th>read_at</th>\n",
              "      <th>started_at</th>\n",
              "      <th>n_votes</th>\n",
              "      <th>n_comments</th>\n",
              "    </tr>\n",
              "  </thead>\n",
              "  <tbody>\n",
              "    <tr>\n",
              "      <th>329091</th>\n",
              "      <td>57fa81f98fad08b7cbb1ed6bded963fa</td>\n",
              "      <td>13412515</td>\n",
              "      <td>dcdfc4fca4e42ad34a1396d6c85d9e69</td>\n",
              "      <td>4</td>\n",
              "      <td>I figured this was a trend of all the mend tha...</td>\n",
              "      <td>Fri Jan 13 02:11:22 -0800 2017</td>\n",
              "      <td>Fri Jan 13 02:18:00 -0800 2017</td>\n",
              "      <td>Fri Jan 13 00:00:00 -0800 2017</td>\n",
              "      <td>NaN</td>\n",
              "      <td>1</td>\n",
              "      <td>0</td>\n",
              "    </tr>\n",
              "    <tr>\n",
              "      <th>728118</th>\n",
              "      <td>ffa5094acb2bca8fc8655538e60c400e</td>\n",
              "      <td>21469090</td>\n",
              "      <td>2f7f06bbce07261f1c639a0473e9ca06</td>\n",
              "      <td>4</td>\n",
              "      <td>So much fun! Not sure I'm going to like as muc...</td>\n",
              "      <td>Sun Dec 21 22:49:44 -0800 2014</td>\n",
              "      <td>Mon May 04 21:41:01 -0700 2015</td>\n",
              "      <td>Fri Dec 05 00:00:00 -0800 2014</td>\n",
              "      <td>NaN</td>\n",
              "      <td>2</td>\n",
              "      <td>0</td>\n",
              "    </tr>\n",
              "    <tr>\n",
              "      <th>631878</th>\n",
              "      <td>b1f531936f47624ab657289b22317473</td>\n",
              "      <td>17661699</td>\n",
              "      <td>f63d6177217080f67b2ffa005e662917</td>\n",
              "      <td>4</td>\n",
              "      <td>Rainy Dey heads off to college as a freshman. ...</td>\n",
              "      <td>Mon Jan 06 06:31:21 -0800 2014</td>\n",
              "      <td>Sat Jun 24 11:00:04 -0700 2017</td>\n",
              "      <td>Thu Jan 16 00:00:00 -0800 2014</td>\n",
              "      <td>Wed Jan 15 00:00:00 -0800 2014</td>\n",
              "      <td>0</td>\n",
              "      <td>0</td>\n",
              "    </tr>\n",
              "    <tr>\n",
              "      <th>291346</th>\n",
              "      <td>b4e0d01dc49db4b9d1a8d0466f4a3072</td>\n",
              "      <td>11454587</td>\n",
              "      <td>6e87495c835caafdd6e1ee3d5fceb7d1</td>\n",
              "      <td>4</td>\n",
              "      <td>So you know what I was just thinking today? Ho...</td>\n",
              "      <td>Sun Jul 28 07:36:13 -0700 2013</td>\n",
              "      <td>Thu Aug 08 19:45:18 -0700 2013</td>\n",
              "      <td>Thu Aug 08 00:00:00 -0700 2013</td>\n",
              "      <td>Tue Aug 06 00:00:00 -0700 2013</td>\n",
              "      <td>0</td>\n",
              "      <td>0</td>\n",
              "    </tr>\n",
              "    <tr>\n",
              "      <th>836206</th>\n",
              "      <td>d644a5428ea2450651f68935d66425db</td>\n",
              "      <td>6148028</td>\n",
              "      <td>396d2fa0a1dd1802440462ecc4665fd1</td>\n",
              "      <td>4</td>\n",
              "      <td>A good continuation from the previous book. Br...</td>\n",
              "      <td>Tue Jan 14 10:18:43 -0800 2014</td>\n",
              "      <td>Sun Aug 10 17:51:09 -0700 2014</td>\n",
              "      <td>Thu Aug 07 00:00:00 -0700 2014</td>\n",
              "      <td>Tue Aug 05 00:00:00 -0700 2014</td>\n",
              "      <td>0</td>\n",
              "      <td>0</td>\n",
              "    </tr>\n",
              "    <tr>\n",
              "      <th>246839</th>\n",
              "      <td>bd9347e112ea93e4efb889e24f825626</td>\n",
              "      <td>42899</td>\n",
              "      <td>e484a03028db34f7bcd4d26e771f839c</td>\n",
              "      <td>4</td>\n",
              "      <td>You know, I resisted the whole vampire/werewol...</td>\n",
              "      <td>Sun Jul 01 20:50:17 -0700 2007</td>\n",
              "      <td>Sun Jul 01 21:03:20 -0700 2007</td>\n",
              "      <td>NaN</td>\n",
              "      <td>NaN</td>\n",
              "      <td>0</td>\n",
              "      <td>0</td>\n",
              "    </tr>\n",
              "    <tr>\n",
              "      <th>127797</th>\n",
              "      <td>ea1d434bf3285477ecdcdb4e09174403</td>\n",
              "      <td>183660</td>\n",
              "      <td>49c77fbaa4558f41fbf022cd37b2eea4</td>\n",
              "      <td>4</td>\n",
              "      <td>An interesting retelling of Snow White. Sure, ...</td>\n",
              "      <td>Wed Dec 02 15:50:15 -0800 2009</td>\n",
              "      <td>Tue Dec 15 19:09:59 -0800 2009</td>\n",
              "      <td>Tue Dec 15 00:00:00 -0800 2009</td>\n",
              "      <td>NaN</td>\n",
              "      <td>0</td>\n",
              "      <td>1</td>\n",
              "    </tr>\n",
              "    <tr>\n",
              "      <th>234979</th>\n",
              "      <td>4c445b4b34fc8f4ada2ddcd819a05b58</td>\n",
              "      <td>6777616</td>\n",
              "      <td>43ce000161e07014c1d805471cbf73a1</td>\n",
              "      <td>4</td>\n",
              "      <td>Like so many of the mysteries I love, this one...</td>\n",
              "      <td>Sat Jul 09 18:51:04 -0700 2016</td>\n",
              "      <td>Fri Aug 12 06:14:57 -0700 2016</td>\n",
              "      <td>Thu Aug 11 00:00:00 -0700 2016</td>\n",
              "      <td>Sat Jul 09 00:00:00 -0700 2016</td>\n",
              "      <td>1</td>\n",
              "      <td>0</td>\n",
              "    </tr>\n",
              "    <tr>\n",
              "      <th>332248</th>\n",
              "      <td>c4ccb23db8dee77cd923de30d836afae</td>\n",
              "      <td>10558533</td>\n",
              "      <td>106dca9e8f2ad428ce5701293fafb0a0</td>\n",
              "      <td>4</td>\n",
              "      <td>The German edition cover is so much better. An...</td>\n",
              "      <td>Mon Apr 01 08:07:01 -0700 2013</td>\n",
              "      <td>Fri Jun 07 12:19:32 -0700 2013</td>\n",
              "      <td>Fri Jun 07 12:19:32 -0700 2013</td>\n",
              "      <td>Mon Jun 03 00:00:00 -0700 2013</td>\n",
              "      <td>0</td>\n",
              "      <td>2</td>\n",
              "    </tr>\n",
              "    <tr>\n",
              "      <th>725231</th>\n",
              "      <td>59a514bb7433cc389b2657b6c0c2d3bb</td>\n",
              "      <td>13564634</td>\n",
              "      <td>cb467ef010f5e8591018d081934b9d70</td>\n",
              "      <td>4</td>\n",
              "      <td>When I originally saw this book I was not inte...</td>\n",
              "      <td>Thu May 10 07:23:06 -0700 2012</td>\n",
              "      <td>Sun Jun 24 07:58:52 -0700 2012</td>\n",
              "      <td>Mon Jun 04 00:00:00 -0700 2012</td>\n",
              "      <td>Thu May 31 00:00:00 -0700 2012</td>\n",
              "      <td>1</td>\n",
              "      <td>0</td>\n",
              "    </tr>\n",
              "  </tbody>\n",
              "</table>\n",
              "</div>\n",
              "    <div class=\"colab-df-buttons\">\n",
              "\n",
              "  <div class=\"colab-df-container\">\n",
              "    <button class=\"colab-df-convert\" onclick=\"convertToInteractive('df-4e447036-65c3-4243-bb88-d49aa95eec01')\"\n",
              "            title=\"Convert this dataframe to an interactive table.\"\n",
              "            style=\"display:none;\">\n",
              "\n",
              "  <svg xmlns=\"http://www.w3.org/2000/svg\" height=\"24px\" viewBox=\"0 -960 960 960\">\n",
              "    <path d=\"M120-120v-720h720v720H120Zm60-500h600v-160H180v160Zm220 220h160v-160H400v160Zm0 220h160v-160H400v160ZM180-400h160v-160H180v160Zm440 0h160v-160H620v160ZM180-180h160v-160H180v160Zm440 0h160v-160H620v160Z\"/>\n",
              "  </svg>\n",
              "    </button>\n",
              "\n",
              "  <style>\n",
              "    .colab-df-container {\n",
              "      display:flex;\n",
              "      gap: 12px;\n",
              "    }\n",
              "\n",
              "    .colab-df-convert {\n",
              "      background-color: #E8F0FE;\n",
              "      border: none;\n",
              "      border-radius: 50%;\n",
              "      cursor: pointer;\n",
              "      display: none;\n",
              "      fill: #1967D2;\n",
              "      height: 32px;\n",
              "      padding: 0 0 0 0;\n",
              "      width: 32px;\n",
              "    }\n",
              "\n",
              "    .colab-df-convert:hover {\n",
              "      background-color: #E2EBFA;\n",
              "      box-shadow: 0px 1px 2px rgba(60, 64, 67, 0.3), 0px 1px 3px 1px rgba(60, 64, 67, 0.15);\n",
              "      fill: #174EA6;\n",
              "    }\n",
              "\n",
              "    .colab-df-buttons div {\n",
              "      margin-bottom: 4px;\n",
              "    }\n",
              "\n",
              "    [theme=dark] .colab-df-convert {\n",
              "      background-color: #3B4455;\n",
              "      fill: #D2E3FC;\n",
              "    }\n",
              "\n",
              "    [theme=dark] .colab-df-convert:hover {\n",
              "      background-color: #434B5C;\n",
              "      box-shadow: 0px 1px 3px 1px rgba(0, 0, 0, 0.15);\n",
              "      filter: drop-shadow(0px 1px 2px rgba(0, 0, 0, 0.3));\n",
              "      fill: #FFFFFF;\n",
              "    }\n",
              "  </style>\n",
              "\n",
              "    <script>\n",
              "      const buttonEl =\n",
              "        document.querySelector('#df-4e447036-65c3-4243-bb88-d49aa95eec01 button.colab-df-convert');\n",
              "      buttonEl.style.display =\n",
              "        google.colab.kernel.accessAllowed ? 'block' : 'none';\n",
              "\n",
              "      async function convertToInteractive(key) {\n",
              "        const element = document.querySelector('#df-4e447036-65c3-4243-bb88-d49aa95eec01');\n",
              "        const dataTable =\n",
              "          await google.colab.kernel.invokeFunction('convertToInteractive',\n",
              "                                                    [key], {});\n",
              "        if (!dataTable) return;\n",
              "\n",
              "        const docLinkHtml = 'Like what you see? Visit the ' +\n",
              "          '<a target=\"_blank\" href=https://colab.research.google.com/notebooks/data_table.ipynb>data table notebook</a>'\n",
              "          + ' to learn more about interactive tables.';\n",
              "        element.innerHTML = '';\n",
              "        dataTable['output_type'] = 'display_data';\n",
              "        await google.colab.output.renderOutput(dataTable, element);\n",
              "        const docLink = document.createElement('div');\n",
              "        docLink.innerHTML = docLinkHtml;\n",
              "        element.appendChild(docLink);\n",
              "      }\n",
              "    </script>\n",
              "  </div>\n",
              "\n",
              "\n",
              "<div id=\"df-0e3355e6-23f1-4fca-906c-0cae35631fe6\">\n",
              "  <button class=\"colab-df-quickchart\" onclick=\"quickchart('df-0e3355e6-23f1-4fca-906c-0cae35631fe6')\"\n",
              "            title=\"Suggest charts\"\n",
              "            style=\"display:none;\">\n",
              "\n",
              "<svg xmlns=\"http://www.w3.org/2000/svg\" height=\"24px\"viewBox=\"0 0 24 24\"\n",
              "     width=\"24px\">\n",
              "    <g>\n",
              "        <path d=\"M19 3H5c-1.1 0-2 .9-2 2v14c0 1.1.9 2 2 2h14c1.1 0 2-.9 2-2V5c0-1.1-.9-2-2-2zM9 17H7v-7h2v7zm4 0h-2V7h2v10zm4 0h-2v-4h2v4z\"/>\n",
              "    </g>\n",
              "</svg>\n",
              "  </button>\n",
              "\n",
              "<style>\n",
              "  .colab-df-quickchart {\n",
              "      --bg-color: #E8F0FE;\n",
              "      --fill-color: #1967D2;\n",
              "      --hover-bg-color: #E2EBFA;\n",
              "      --hover-fill-color: #174EA6;\n",
              "      --disabled-fill-color: #AAA;\n",
              "      --disabled-bg-color: #DDD;\n",
              "  }\n",
              "\n",
              "  [theme=dark] .colab-df-quickchart {\n",
              "      --bg-color: #3B4455;\n",
              "      --fill-color: #D2E3FC;\n",
              "      --hover-bg-color: #434B5C;\n",
              "      --hover-fill-color: #FFFFFF;\n",
              "      --disabled-bg-color: #3B4455;\n",
              "      --disabled-fill-color: #666;\n",
              "  }\n",
              "\n",
              "  .colab-df-quickchart {\n",
              "    background-color: var(--bg-color);\n",
              "    border: none;\n",
              "    border-radius: 50%;\n",
              "    cursor: pointer;\n",
              "    display: none;\n",
              "    fill: var(--fill-color);\n",
              "    height: 32px;\n",
              "    padding: 0;\n",
              "    width: 32px;\n",
              "  }\n",
              "\n",
              "  .colab-df-quickchart:hover {\n",
              "    background-color: var(--hover-bg-color);\n",
              "    box-shadow: 0 1px 2px rgba(60, 64, 67, 0.3), 0 1px 3px 1px rgba(60, 64, 67, 0.15);\n",
              "    fill: var(--button-hover-fill-color);\n",
              "  }\n",
              "\n",
              "  .colab-df-quickchart-complete:disabled,\n",
              "  .colab-df-quickchart-complete:disabled:hover {\n",
              "    background-color: var(--disabled-bg-color);\n",
              "    fill: var(--disabled-fill-color);\n",
              "    box-shadow: none;\n",
              "  }\n",
              "\n",
              "  .colab-df-spinner {\n",
              "    border: 2px solid var(--fill-color);\n",
              "    border-color: transparent;\n",
              "    border-bottom-color: var(--fill-color);\n",
              "    animation:\n",
              "      spin 1s steps(1) infinite;\n",
              "  }\n",
              "\n",
              "  @keyframes spin {\n",
              "    0% {\n",
              "      border-color: transparent;\n",
              "      border-bottom-color: var(--fill-color);\n",
              "      border-left-color: var(--fill-color);\n",
              "    }\n",
              "    20% {\n",
              "      border-color: transparent;\n",
              "      border-left-color: var(--fill-color);\n",
              "      border-top-color: var(--fill-color);\n",
              "    }\n",
              "    30% {\n",
              "      border-color: transparent;\n",
              "      border-left-color: var(--fill-color);\n",
              "      border-top-color: var(--fill-color);\n",
              "      border-right-color: var(--fill-color);\n",
              "    }\n",
              "    40% {\n",
              "      border-color: transparent;\n",
              "      border-right-color: var(--fill-color);\n",
              "      border-top-color: var(--fill-color);\n",
              "    }\n",
              "    60% {\n",
              "      border-color: transparent;\n",
              "      border-right-color: var(--fill-color);\n",
              "    }\n",
              "    80% {\n",
              "      border-color: transparent;\n",
              "      border-right-color: var(--fill-color);\n",
              "      border-bottom-color: var(--fill-color);\n",
              "    }\n",
              "    90% {\n",
              "      border-color: transparent;\n",
              "      border-bottom-color: var(--fill-color);\n",
              "    }\n",
              "  }\n",
              "</style>\n",
              "\n",
              "  <script>\n",
              "    async function quickchart(key) {\n",
              "      const quickchartButtonEl =\n",
              "        document.querySelector('#' + key + ' button');\n",
              "      quickchartButtonEl.disabled = true;  // To prevent multiple clicks.\n",
              "      quickchartButtonEl.classList.add('colab-df-spinner');\n",
              "      try {\n",
              "        const charts = await google.colab.kernel.invokeFunction(\n",
              "            'suggestCharts', [key], {});\n",
              "      } catch (error) {\n",
              "        console.error('Error during call to suggestCharts:', error);\n",
              "      }\n",
              "      quickchartButtonEl.classList.remove('colab-df-spinner');\n",
              "      quickchartButtonEl.classList.add('colab-df-quickchart-complete');\n",
              "    }\n",
              "    (() => {\n",
              "      let quickchartButtonEl =\n",
              "        document.querySelector('#df-0e3355e6-23f1-4fca-906c-0cae35631fe6 button');\n",
              "      quickchartButtonEl.style.display =\n",
              "        google.colab.kernel.accessAllowed ? 'block' : 'none';\n",
              "    })();\n",
              "  </script>\n",
              "</div>\n",
              "    </div>\n",
              "  </div>\n"
            ],
            "application/vnd.google.colaboratory.intrinsic+json": {
              "type": "dataframe",
              "variable_name": "data",
              "repr_error": "0"
            }
          },
          "metadata": {},
          "execution_count": 22
        }
      ]
    },
    {
      "cell_type": "code",
      "source": [
        "data.tail(10)"
      ],
      "metadata": {
        "colab": {
          "base_uri": "https://localhost:8080/",
          "height": 1000
        },
        "id": "5f5jMz3pnnLe",
        "outputId": "6397d828-44ff-45e3-a28c-01189f6a463c"
      },
      "execution_count": 23,
      "outputs": [
        {
          "output_type": "execute_result",
          "data": {
            "text/plain": [
              "                                 user_id   book_id  \\\n",
              "794535  d8a08df021db1fc767449668280360d7  18490661   \n",
              "161289  c880c351686cfae340a84e67104b5d88      5907   \n",
              "15472   44e2893bef618f4dea26aabdb757ba3c  17909617   \n",
              "690244  be6325d6b38d7b84a0107863e8e6656c  21535271   \n",
              "50484   d482fe133d8d1d8c0bf1ab0ca7f0e65a  15734760   \n",
              "47059   3c32f1f14c0fcad9e111330941ecc578  13125947   \n",
              "585432  c4f5d5162766ac6f22b2d1b40fb3f8f0   5287473   \n",
              "721370  b203e4fba0ee0d5843b229781c884234   6638377   \n",
              "704831  f070f1cc66d79485f12f9a185afb9413  11725462   \n",
              "133537  7376cc2c4f0115c7685a7e0d80800223  17331828   \n",
              "\n",
              "                               review_id  rating  \\\n",
              "794535  efa01c81eeb72c78d7d92295b2e835bb       1   \n",
              "161289  3d8f753dde3d130e21bfb40ceecaa19d       1   \n",
              "15472   77dc7e5789f3e291bb18b738ee9bcd68       1   \n",
              "690244  4a1ed8e2ee2ab96172ce305f7bb11694       1   \n",
              "50484   019cef7d9270201c95ad384f5e6b2c53       1   \n",
              "47059   d31baf69994bb2c3f421e792a66f0f3d       1   \n",
              "585432  8ed409aedd272582e1615235d2779253       1   \n",
              "721370  bf420dd04e74187c969c00b3b6545ead       1   \n",
              "704831  400d5cd84eb8de164a039ce18480ca98       1   \n",
              "133537  9966ba3988fef9a3c5ded9a723dcf80f       1   \n",
              "\n",
              "                                              review_text  \\\n",
              "794535  I'm afraid I don't have anything good to say a...   \n",
              "161289  It seems I'm in the minority but I really didn...   \n",
              "15472                        DNF - Got Bored of this one.   \n",
              "690244  Ugh. \\n The only thing I liked about this is t...   \n",
              "50484   Good grief. What terrible writing. Hamilton mu...   \n",
              "47059   You know how many people complain about ending...   \n",
              "585432  [I also reviewed this title on my blog: Ishari...   \n",
              "721370  This was not even one bit funny! Do not read u...   \n",
              "704831  Review brought to you by OBS staff member Anna...   \n",
              "133537  Was i not in the right frame of mind to read t...   \n",
              "\n",
              "                            date_added                    date_updated  \\\n",
              "794535  Mon Feb 15 16:34:29 -0800 2016  Tue Mar 29 14:38:19 -0700 2016   \n",
              "161289  Mon Dec 03 18:56:20 -0800 2012  Thu Jul 09 13:47:12 -0700 2015   \n",
              "15472   Mon Nov 18 06:27:29 -0800 2013  Thu Dec 04 07:37:14 -0800 2014   \n",
              "690244  Thu Aug 14 17:22:33 -0700 2014  Fri Jun 23 15:59:17 -0700 2017   \n",
              "50484   Mon Jun 23 19:06:09 -0700 2014  Mon Jun 23 19:07:25 -0700 2014   \n",
              "47059   Sat Mar 16 02:02:13 -0700 2013  Sat Mar 16 02:26:28 -0700 2013   \n",
              "585432  Mon Dec 23 04:50:44 -0800 2013  Fri Aug 19 05:53:43 -0700 2016   \n",
              "721370  Sun Aug 01 11:21:33 -0700 2010  Mon Aug 02 16:38:36 -0700 2010   \n",
              "704831  Sat Mar 24 22:19:44 -0700 2012  Tue Mar 27 10:21:32 -0700 2012   \n",
              "133537  Tue Sep 30 23:09:28 -0700 2014  Tue Jan 05 01:28:11 -0800 2016   \n",
              "\n",
              "                               read_at                      started_at  \\\n",
              "794535  Tue Feb 16 00:00:00 -0800 2016  Mon Feb 15 00:00:00 -0800 2016   \n",
              "161289  Thu Jul 09 13:47:12 -0700 2015  Wed Jun 24 00:00:00 -0700 2015   \n",
              "15472   Thu Feb 13 00:00:00 -0800 2014  Mon Nov 18 00:00:00 -0800 2013   \n",
              "690244  Fri May 22 16:41:36 -0700 2015  Thu May 21 00:00:00 -0700 2015   \n",
              "50484   Mon Jun 23 00:00:00 -0700 2014                             NaN   \n",
              "47059                              NaN                             NaN   \n",
              "585432  Wed Dec 18 00:00:00 -0800 2013                             NaN   \n",
              "721370  Mon Aug 02 16:37:50 -0700 2010  Sun Aug 01 00:00:00 -0700 2010   \n",
              "704831                             NaN                             NaN   \n",
              "133537  Mon Sep 14 07:46:57 -0700 2015  Mon Sep 14 00:00:00 -0700 2015   \n",
              "\n",
              "        n_votes  n_comments  \n",
              "794535        1           3  \n",
              "161289        0           0  \n",
              "15472         0           0  \n",
              "690244       57           2  \n",
              "50484         2           2  \n",
              "47059         7           0  \n",
              "585432        0           0  \n",
              "721370        0           0  \n",
              "704831        1           2  \n",
              "133537        1           0  "
            ],
            "text/html": [
              "\n",
              "  <div id=\"df-3775ce3c-7086-4ff3-ae5b-f795a19357ca\" class=\"colab-df-container\">\n",
              "    <div>\n",
              "<style scoped>\n",
              "    .dataframe tbody tr th:only-of-type {\n",
              "        vertical-align: middle;\n",
              "    }\n",
              "\n",
              "    .dataframe tbody tr th {\n",
              "        vertical-align: top;\n",
              "    }\n",
              "\n",
              "    .dataframe thead th {\n",
              "        text-align: right;\n",
              "    }\n",
              "</style>\n",
              "<table border=\"1\" class=\"dataframe\">\n",
              "  <thead>\n",
              "    <tr style=\"text-align: right;\">\n",
              "      <th></th>\n",
              "      <th>user_id</th>\n",
              "      <th>book_id</th>\n",
              "      <th>review_id</th>\n",
              "      <th>rating</th>\n",
              "      <th>review_text</th>\n",
              "      <th>date_added</th>\n",
              "      <th>date_updated</th>\n",
              "      <th>read_at</th>\n",
              "      <th>started_at</th>\n",
              "      <th>n_votes</th>\n",
              "      <th>n_comments</th>\n",
              "    </tr>\n",
              "  </thead>\n",
              "  <tbody>\n",
              "    <tr>\n",
              "      <th>794535</th>\n",
              "      <td>d8a08df021db1fc767449668280360d7</td>\n",
              "      <td>18490661</td>\n",
              "      <td>efa01c81eeb72c78d7d92295b2e835bb</td>\n",
              "      <td>1</td>\n",
              "      <td>I'm afraid I don't have anything good to say a...</td>\n",
              "      <td>Mon Feb 15 16:34:29 -0800 2016</td>\n",
              "      <td>Tue Mar 29 14:38:19 -0700 2016</td>\n",
              "      <td>Tue Feb 16 00:00:00 -0800 2016</td>\n",
              "      <td>Mon Feb 15 00:00:00 -0800 2016</td>\n",
              "      <td>1</td>\n",
              "      <td>3</td>\n",
              "    </tr>\n",
              "    <tr>\n",
              "      <th>161289</th>\n",
              "      <td>c880c351686cfae340a84e67104b5d88</td>\n",
              "      <td>5907</td>\n",
              "      <td>3d8f753dde3d130e21bfb40ceecaa19d</td>\n",
              "      <td>1</td>\n",
              "      <td>It seems I'm in the minority but I really didn...</td>\n",
              "      <td>Mon Dec 03 18:56:20 -0800 2012</td>\n",
              "      <td>Thu Jul 09 13:47:12 -0700 2015</td>\n",
              "      <td>Thu Jul 09 13:47:12 -0700 2015</td>\n",
              "      <td>Wed Jun 24 00:00:00 -0700 2015</td>\n",
              "      <td>0</td>\n",
              "      <td>0</td>\n",
              "    </tr>\n",
              "    <tr>\n",
              "      <th>15472</th>\n",
              "      <td>44e2893bef618f4dea26aabdb757ba3c</td>\n",
              "      <td>17909617</td>\n",
              "      <td>77dc7e5789f3e291bb18b738ee9bcd68</td>\n",
              "      <td>1</td>\n",
              "      <td>DNF - Got Bored of this one.</td>\n",
              "      <td>Mon Nov 18 06:27:29 -0800 2013</td>\n",
              "      <td>Thu Dec 04 07:37:14 -0800 2014</td>\n",
              "      <td>Thu Feb 13 00:00:00 -0800 2014</td>\n",
              "      <td>Mon Nov 18 00:00:00 -0800 2013</td>\n",
              "      <td>0</td>\n",
              "      <td>0</td>\n",
              "    </tr>\n",
              "    <tr>\n",
              "      <th>690244</th>\n",
              "      <td>be6325d6b38d7b84a0107863e8e6656c</td>\n",
              "      <td>21535271</td>\n",
              "      <td>4a1ed8e2ee2ab96172ce305f7bb11694</td>\n",
              "      <td>1</td>\n",
              "      <td>Ugh. \\n The only thing I liked about this is t...</td>\n",
              "      <td>Thu Aug 14 17:22:33 -0700 2014</td>\n",
              "      <td>Fri Jun 23 15:59:17 -0700 2017</td>\n",
              "      <td>Fri May 22 16:41:36 -0700 2015</td>\n",
              "      <td>Thu May 21 00:00:00 -0700 2015</td>\n",
              "      <td>57</td>\n",
              "      <td>2</td>\n",
              "    </tr>\n",
              "    <tr>\n",
              "      <th>50484</th>\n",
              "      <td>d482fe133d8d1d8c0bf1ab0ca7f0e65a</td>\n",
              "      <td>15734760</td>\n",
              "      <td>019cef7d9270201c95ad384f5e6b2c53</td>\n",
              "      <td>1</td>\n",
              "      <td>Good grief. What terrible writing. Hamilton mu...</td>\n",
              "      <td>Mon Jun 23 19:06:09 -0700 2014</td>\n",
              "      <td>Mon Jun 23 19:07:25 -0700 2014</td>\n",
              "      <td>Mon Jun 23 00:00:00 -0700 2014</td>\n",
              "      <td>NaN</td>\n",
              "      <td>2</td>\n",
              "      <td>2</td>\n",
              "    </tr>\n",
              "    <tr>\n",
              "      <th>47059</th>\n",
              "      <td>3c32f1f14c0fcad9e111330941ecc578</td>\n",
              "      <td>13125947</td>\n",
              "      <td>d31baf69994bb2c3f421e792a66f0f3d</td>\n",
              "      <td>1</td>\n",
              "      <td>You know how many people complain about ending...</td>\n",
              "      <td>Sat Mar 16 02:02:13 -0700 2013</td>\n",
              "      <td>Sat Mar 16 02:26:28 -0700 2013</td>\n",
              "      <td>NaN</td>\n",
              "      <td>NaN</td>\n",
              "      <td>7</td>\n",
              "      <td>0</td>\n",
              "    </tr>\n",
              "    <tr>\n",
              "      <th>585432</th>\n",
              "      <td>c4f5d5162766ac6f22b2d1b40fb3f8f0</td>\n",
              "      <td>5287473</td>\n",
              "      <td>8ed409aedd272582e1615235d2779253</td>\n",
              "      <td>1</td>\n",
              "      <td>[I also reviewed this title on my blog: Ishari...</td>\n",
              "      <td>Mon Dec 23 04:50:44 -0800 2013</td>\n",
              "      <td>Fri Aug 19 05:53:43 -0700 2016</td>\n",
              "      <td>Wed Dec 18 00:00:00 -0800 2013</td>\n",
              "      <td>NaN</td>\n",
              "      <td>0</td>\n",
              "      <td>0</td>\n",
              "    </tr>\n",
              "    <tr>\n",
              "      <th>721370</th>\n",
              "      <td>b203e4fba0ee0d5843b229781c884234</td>\n",
              "      <td>6638377</td>\n",
              "      <td>bf420dd04e74187c969c00b3b6545ead</td>\n",
              "      <td>1</td>\n",
              "      <td>This was not even one bit funny! Do not read u...</td>\n",
              "      <td>Sun Aug 01 11:21:33 -0700 2010</td>\n",
              "      <td>Mon Aug 02 16:38:36 -0700 2010</td>\n",
              "      <td>Mon Aug 02 16:37:50 -0700 2010</td>\n",
              "      <td>Sun Aug 01 00:00:00 -0700 2010</td>\n",
              "      <td>0</td>\n",
              "      <td>0</td>\n",
              "    </tr>\n",
              "    <tr>\n",
              "      <th>704831</th>\n",
              "      <td>f070f1cc66d79485f12f9a185afb9413</td>\n",
              "      <td>11725462</td>\n",
              "      <td>400d5cd84eb8de164a039ce18480ca98</td>\n",
              "      <td>1</td>\n",
              "      <td>Review brought to you by OBS staff member Anna...</td>\n",
              "      <td>Sat Mar 24 22:19:44 -0700 2012</td>\n",
              "      <td>Tue Mar 27 10:21:32 -0700 2012</td>\n",
              "      <td>NaN</td>\n",
              "      <td>NaN</td>\n",
              "      <td>1</td>\n",
              "      <td>2</td>\n",
              "    </tr>\n",
              "    <tr>\n",
              "      <th>133537</th>\n",
              "      <td>7376cc2c4f0115c7685a7e0d80800223</td>\n",
              "      <td>17331828</td>\n",
              "      <td>9966ba3988fef9a3c5ded9a723dcf80f</td>\n",
              "      <td>1</td>\n",
              "      <td>Was i not in the right frame of mind to read t...</td>\n",
              "      <td>Tue Sep 30 23:09:28 -0700 2014</td>\n",
              "      <td>Tue Jan 05 01:28:11 -0800 2016</td>\n",
              "      <td>Mon Sep 14 07:46:57 -0700 2015</td>\n",
              "      <td>Mon Sep 14 00:00:00 -0700 2015</td>\n",
              "      <td>1</td>\n",
              "      <td>0</td>\n",
              "    </tr>\n",
              "  </tbody>\n",
              "</table>\n",
              "</div>\n",
              "    <div class=\"colab-df-buttons\">\n",
              "\n",
              "  <div class=\"colab-df-container\">\n",
              "    <button class=\"colab-df-convert\" onclick=\"convertToInteractive('df-3775ce3c-7086-4ff3-ae5b-f795a19357ca')\"\n",
              "            title=\"Convert this dataframe to an interactive table.\"\n",
              "            style=\"display:none;\">\n",
              "\n",
              "  <svg xmlns=\"http://www.w3.org/2000/svg\" height=\"24px\" viewBox=\"0 -960 960 960\">\n",
              "    <path d=\"M120-120v-720h720v720H120Zm60-500h600v-160H180v160Zm220 220h160v-160H400v160Zm0 220h160v-160H400v160ZM180-400h160v-160H180v160Zm440 0h160v-160H620v160ZM180-180h160v-160H180v160Zm440 0h160v-160H620v160Z\"/>\n",
              "  </svg>\n",
              "    </button>\n",
              "\n",
              "  <style>\n",
              "    .colab-df-container {\n",
              "      display:flex;\n",
              "      gap: 12px;\n",
              "    }\n",
              "\n",
              "    .colab-df-convert {\n",
              "      background-color: #E8F0FE;\n",
              "      border: none;\n",
              "      border-radius: 50%;\n",
              "      cursor: pointer;\n",
              "      display: none;\n",
              "      fill: #1967D2;\n",
              "      height: 32px;\n",
              "      padding: 0 0 0 0;\n",
              "      width: 32px;\n",
              "    }\n",
              "\n",
              "    .colab-df-convert:hover {\n",
              "      background-color: #E2EBFA;\n",
              "      box-shadow: 0px 1px 2px rgba(60, 64, 67, 0.3), 0px 1px 3px 1px rgba(60, 64, 67, 0.15);\n",
              "      fill: #174EA6;\n",
              "    }\n",
              "\n",
              "    .colab-df-buttons div {\n",
              "      margin-bottom: 4px;\n",
              "    }\n",
              "\n",
              "    [theme=dark] .colab-df-convert {\n",
              "      background-color: #3B4455;\n",
              "      fill: #D2E3FC;\n",
              "    }\n",
              "\n",
              "    [theme=dark] .colab-df-convert:hover {\n",
              "      background-color: #434B5C;\n",
              "      box-shadow: 0px 1px 3px 1px rgba(0, 0, 0, 0.15);\n",
              "      filter: drop-shadow(0px 1px 2px rgba(0, 0, 0, 0.3));\n",
              "      fill: #FFFFFF;\n",
              "    }\n",
              "  </style>\n",
              "\n",
              "    <script>\n",
              "      const buttonEl =\n",
              "        document.querySelector('#df-3775ce3c-7086-4ff3-ae5b-f795a19357ca button.colab-df-convert');\n",
              "      buttonEl.style.display =\n",
              "        google.colab.kernel.accessAllowed ? 'block' : 'none';\n",
              "\n",
              "      async function convertToInteractive(key) {\n",
              "        const element = document.querySelector('#df-3775ce3c-7086-4ff3-ae5b-f795a19357ca');\n",
              "        const dataTable =\n",
              "          await google.colab.kernel.invokeFunction('convertToInteractive',\n",
              "                                                    [key], {});\n",
              "        if (!dataTable) return;\n",
              "\n",
              "        const docLinkHtml = 'Like what you see? Visit the ' +\n",
              "          '<a target=\"_blank\" href=https://colab.research.google.com/notebooks/data_table.ipynb>data table notebook</a>'\n",
              "          + ' to learn more about interactive tables.';\n",
              "        element.innerHTML = '';\n",
              "        dataTable['output_type'] = 'display_data';\n",
              "        await google.colab.output.renderOutput(dataTable, element);\n",
              "        const docLink = document.createElement('div');\n",
              "        docLink.innerHTML = docLinkHtml;\n",
              "        element.appendChild(docLink);\n",
              "      }\n",
              "    </script>\n",
              "  </div>\n",
              "\n",
              "\n",
              "<div id=\"df-4378304a-fd7a-4e36-9242-40937382efc0\">\n",
              "  <button class=\"colab-df-quickchart\" onclick=\"quickchart('df-4378304a-fd7a-4e36-9242-40937382efc0')\"\n",
              "            title=\"Suggest charts\"\n",
              "            style=\"display:none;\">\n",
              "\n",
              "<svg xmlns=\"http://www.w3.org/2000/svg\" height=\"24px\"viewBox=\"0 0 24 24\"\n",
              "     width=\"24px\">\n",
              "    <g>\n",
              "        <path d=\"M19 3H5c-1.1 0-2 .9-2 2v14c0 1.1.9 2 2 2h14c1.1 0 2-.9 2-2V5c0-1.1-.9-2-2-2zM9 17H7v-7h2v7zm4 0h-2V7h2v10zm4 0h-2v-4h2v4z\"/>\n",
              "    </g>\n",
              "</svg>\n",
              "  </button>\n",
              "\n",
              "<style>\n",
              "  .colab-df-quickchart {\n",
              "      --bg-color: #E8F0FE;\n",
              "      --fill-color: #1967D2;\n",
              "      --hover-bg-color: #E2EBFA;\n",
              "      --hover-fill-color: #174EA6;\n",
              "      --disabled-fill-color: #AAA;\n",
              "      --disabled-bg-color: #DDD;\n",
              "  }\n",
              "\n",
              "  [theme=dark] .colab-df-quickchart {\n",
              "      --bg-color: #3B4455;\n",
              "      --fill-color: #D2E3FC;\n",
              "      --hover-bg-color: #434B5C;\n",
              "      --hover-fill-color: #FFFFFF;\n",
              "      --disabled-bg-color: #3B4455;\n",
              "      --disabled-fill-color: #666;\n",
              "  }\n",
              "\n",
              "  .colab-df-quickchart {\n",
              "    background-color: var(--bg-color);\n",
              "    border: none;\n",
              "    border-radius: 50%;\n",
              "    cursor: pointer;\n",
              "    display: none;\n",
              "    fill: var(--fill-color);\n",
              "    height: 32px;\n",
              "    padding: 0;\n",
              "    width: 32px;\n",
              "  }\n",
              "\n",
              "  .colab-df-quickchart:hover {\n",
              "    background-color: var(--hover-bg-color);\n",
              "    box-shadow: 0 1px 2px rgba(60, 64, 67, 0.3), 0 1px 3px 1px rgba(60, 64, 67, 0.15);\n",
              "    fill: var(--button-hover-fill-color);\n",
              "  }\n",
              "\n",
              "  .colab-df-quickchart-complete:disabled,\n",
              "  .colab-df-quickchart-complete:disabled:hover {\n",
              "    background-color: var(--disabled-bg-color);\n",
              "    fill: var(--disabled-fill-color);\n",
              "    box-shadow: none;\n",
              "  }\n",
              "\n",
              "  .colab-df-spinner {\n",
              "    border: 2px solid var(--fill-color);\n",
              "    border-color: transparent;\n",
              "    border-bottom-color: var(--fill-color);\n",
              "    animation:\n",
              "      spin 1s steps(1) infinite;\n",
              "  }\n",
              "\n",
              "  @keyframes spin {\n",
              "    0% {\n",
              "      border-color: transparent;\n",
              "      border-bottom-color: var(--fill-color);\n",
              "      border-left-color: var(--fill-color);\n",
              "    }\n",
              "    20% {\n",
              "      border-color: transparent;\n",
              "      border-left-color: var(--fill-color);\n",
              "      border-top-color: var(--fill-color);\n",
              "    }\n",
              "    30% {\n",
              "      border-color: transparent;\n",
              "      border-left-color: var(--fill-color);\n",
              "      border-top-color: var(--fill-color);\n",
              "      border-right-color: var(--fill-color);\n",
              "    }\n",
              "    40% {\n",
              "      border-color: transparent;\n",
              "      border-right-color: var(--fill-color);\n",
              "      border-top-color: var(--fill-color);\n",
              "    }\n",
              "    60% {\n",
              "      border-color: transparent;\n",
              "      border-right-color: var(--fill-color);\n",
              "    }\n",
              "    80% {\n",
              "      border-color: transparent;\n",
              "      border-right-color: var(--fill-color);\n",
              "      border-bottom-color: var(--fill-color);\n",
              "    }\n",
              "    90% {\n",
              "      border-color: transparent;\n",
              "      border-bottom-color: var(--fill-color);\n",
              "    }\n",
              "  }\n",
              "</style>\n",
              "\n",
              "  <script>\n",
              "    async function quickchart(key) {\n",
              "      const quickchartButtonEl =\n",
              "        document.querySelector('#' + key + ' button');\n",
              "      quickchartButtonEl.disabled = true;  // To prevent multiple clicks.\n",
              "      quickchartButtonEl.classList.add('colab-df-spinner');\n",
              "      try {\n",
              "        const charts = await google.colab.kernel.invokeFunction(\n",
              "            'suggestCharts', [key], {});\n",
              "      } catch (error) {\n",
              "        console.error('Error during call to suggestCharts:', error);\n",
              "      }\n",
              "      quickchartButtonEl.classList.remove('colab-df-spinner');\n",
              "      quickchartButtonEl.classList.add('colab-df-quickchart-complete');\n",
              "    }\n",
              "    (() => {\n",
              "      let quickchartButtonEl =\n",
              "        document.querySelector('#df-4378304a-fd7a-4e36-9242-40937382efc0 button');\n",
              "      quickchartButtonEl.style.display =\n",
              "        google.colab.kernel.accessAllowed ? 'block' : 'none';\n",
              "    })();\n",
              "  </script>\n",
              "</div>\n",
              "    </div>\n",
              "  </div>\n"
            ],
            "application/vnd.google.colaboratory.intrinsic+json": {
              "type": "dataframe",
              "repr_error": "0"
            }
          },
          "metadata": {},
          "execution_count": 23
        }
      ]
    },
    {
      "cell_type": "markdown",
      "source": [
        "### Exploratory Data Analysis (EDA)"
      ],
      "metadata": {
        "id": "XRwttSuKeumN"
      }
    },
    {
      "cell_type": "markdown",
      "source": [
        "#### Summary Statistics"
      ],
      "metadata": {
        "id": "5ZFFltBte3gd"
      }
    },
    {
      "cell_type": "code",
      "source": [
        "data.info()"
      ],
      "metadata": {
        "colab": {
          "base_uri": "https://localhost:8080/"
        },
        "id": "HHqMPU2yebap",
        "outputId": "0e09e25d-b5f3-46eb-e45f-9ae13a156411"
      },
      "execution_count": 24,
      "outputs": [
        {
          "output_type": "stream",
          "name": "stdout",
          "text": [
            "<class 'pandas.core.frame.DataFrame'>\n",
            "Index: 17997 entries, 329091 to 133537\n",
            "Data columns (total 11 columns):\n",
            " #   Column        Non-Null Count  Dtype \n",
            "---  ------        --------------  ----- \n",
            " 0   user_id       17997 non-null  object\n",
            " 1   book_id       17997 non-null  int64 \n",
            " 2   review_id     17997 non-null  object\n",
            " 3   rating        17997 non-null  int64 \n",
            " 4   review_text   17997 non-null  object\n",
            " 5   date_added    17997 non-null  object\n",
            " 6   date_updated  17997 non-null  object\n",
            " 7   read_at       16191 non-null  object\n",
            " 8   started_at    12474 non-null  object\n",
            " 9   n_votes       17997 non-null  int64 \n",
            " 10  n_comments    17997 non-null  int64 \n",
            "dtypes: int64(4), object(7)\n",
            "memory usage: 2.2+ MB\n"
          ]
        }
      ]
    },
    {
      "cell_type": "code",
      "source": [
        "data.columns"
      ],
      "metadata": {
        "colab": {
          "base_uri": "https://localhost:8080/"
        },
        "id": "8YqhTFuxfCQN",
        "outputId": "5d45279d-f950-44eb-cfae-3623a42bce69"
      },
      "execution_count": 25,
      "outputs": [
        {
          "output_type": "execute_result",
          "data": {
            "text/plain": [
              "Index(['user_id', 'book_id', 'review_id', 'rating', 'review_text',\n",
              "       'date_added', 'date_updated', 'read_at', 'started_at', 'n_votes',\n",
              "       'n_comments'],\n",
              "      dtype='object')"
            ]
          },
          "metadata": {},
          "execution_count": 25
        }
      ]
    },
    {
      "cell_type": "code",
      "source": [
        "col_outlier = ['rating','n_votes','n_comments']\n",
        "\n",
        "for col in col_outlier:\n",
        "    plt.figure(figsize=(16, 4))\n",
        "\n",
        "    # histogram\n",
        "    plt.subplot(1, 3, 1)\n",
        "    sns.histplot(data[col], bins=30)\n",
        "    plt.title('Histogram')\n",
        "\n",
        "    # plot Q-Q\n",
        "    plt.subplot(1, 3, 2)\n",
        "    stats.probplot(data[col], dist=\"norm\", plot=plt)\n",
        "    plt.ylabel('Variable quantiles')\n",
        "\n",
        "    # box plot\n",
        "    plt.subplot(1, 3, 3)\n",
        "    sns.boxplot(y=data[col])\n",
        "    plt.title('Boxplot')\n",
        "\n",
        "    plt.show()"
      ],
      "metadata": {
        "colab": {
          "base_uri": "https://localhost:8080/",
          "height": 851
        },
        "id": "uZbE2r7NfgVW",
        "outputId": "3a0d36bf-d692-40e1-8ad4-9d0ac06801f9"
      },
      "execution_count": 26,
      "outputs": [
        {
          "output_type": "display_data",
          "data": {
            "text/plain": [
              "<Figure size 1600x400 with 3 Axes>"
            ],
            "image/png": "[encoded data removed]"
          },
          "metadata": {}
        },
        {
          "output_type": "display_data",
          "data": {
            "text/plain": [
              "<Figure size 1600x400 with 3 Axes>"
            ],
            "image/png": "[encoded data removed]"
          },
          "metadata": {}
        },
        {
          "output_type": "display_data",
          "data": {
            "text/plain": [
              "<Figure size 1600x400 with 3 Axes>"
            ],
            "image/png": "[encoded data removed]"
          },
          "metadata": {}
        }
      ]
    },
    {
      "cell_type": "code",
      "source": [
        "# Select only numeric columns for correlation calculation\n",
        "numeric_train = data.select_dtypes(include=[np.number])\n",
        "\n",
        "# Calculate the correlation matrix on just the numeric data\n",
        "corrMatrix = numeric_train.corr()\n",
        "\n",
        "# Create a heatmap\n",
        "sns.heatmap(corrMatrix, annot=True)\n",
        "plt.show()"
      ],
      "metadata": {
        "colab": {
          "base_uri": "https://localhost:8080/",
          "height": 435
        },
        "id": "aW37aGMkfjlL",
        "outputId": "d82e24aa-06c1-4c0e-973e-3842437b023a"
      },
      "execution_count": 27,
      "outputs": [
        {
          "output_type": "display_data",
          "data": {
            "text/plain": [
              "<Figure size 640x480 with 2 Axes>"
            ],
            "image/png": "[encoded data removed]"
          },
          "metadata": {}
        }
      ]
    },
    {
      "cell_type": "markdown",
      "source": [
        "#### Visualization"
      ],
      "metadata": {
        "id": "nBZG18h2gK6e"
      }
    },
    {
      "cell_type": "code",
      "source": [
        "# setting id as index column\n",
        "data.set_index(\"user_id\", inplace = True)\n",
        "data.set_index(\"book_id\", inplace = True)"
      ],
      "metadata": {
        "id": "cwuHO0v6fo3m"
      },
      "execution_count": 28,
      "outputs": []
    },
    {
      "cell_type": "markdown",
      "source": [
        "##### Rating and Number of Votes Distribution"
      ],
      "metadata": {
        "id": "MuqLniPkgV77"
      }
    },
    {
      "cell_type": "code",
      "source": [
        "# Calculate the average number of votes and comments per rating\n",
        "avg_data = data.groupby('rating')[['n_votes', 'n_comments']].mean().reset_index()"
      ],
      "metadata": {
        "id": "cMNuBOwbgRtU"
      },
      "execution_count": 29,
      "outputs": []
    },
    {
      "cell_type": "code",
      "source": [
        "# Bar plot for train data\n",
        "plt.figure(figsize=(10, 6))\n",
        "sns.barplot(x='rating', y='n_votes', data=avg_data)\n",
        "plt.title('Average Number of Votes per Rating (Train Data)')\n",
        "plt.xlabel('Rating')\n",
        "plt.ylabel('Average Number of Votes')\n",
        "plt.show()"
      ],
      "metadata": {
        "colab": {
          "base_uri": "https://localhost:8080/",
          "height": 564
        },
        "id": "8BxNQ2vyggKX",
        "outputId": "b75fc18a-bdee-4d7d-ecb4-e43806170d4a"
      },
      "execution_count": 30,
      "outputs": [
        {
          "output_type": "display_data",
          "data": {
            "text/plain": [
              "<Figure size 1000x600 with 1 Axes>"
            ],
            "image/png": "[encoded data removed]"
          },
          "metadata": {}
        }
      ]
    },
    {
      "cell_type": "code",
      "source": [
        "# Bar plot\n",
        "plt.figure(figsize=(10, 6))\n",
        "sns.barplot(x='rating', y='n_comments', data=avg_data)\n",
        "plt.title('Average Number of Comments per Rating')\n",
        "plt.xlabel('Rating')\n",
        "plt.ylabel('Average Number of Comments')\n",
        "plt.show()"
      ],
      "metadata": {
        "colab": {
          "base_uri": "https://localhost:8080/",
          "height": 564
        },
        "id": "mlGx3-TAgi1k",
        "outputId": "8602d3c1-0449-47b0-f014-3863f4fc5888"
      },
      "execution_count": 31,
      "outputs": [
        {
          "output_type": "display_data",
          "data": {
            "text/plain": [
              "<Figure size 1000x600 with 1 Axes>"
            ],
            "image/png": "[encoded data removed]"
          },
          "metadata": {}
        }
      ]
    },
    {
      "cell_type": "markdown",
      "source": [
        "##### Number of Votes and Number of Comments Distributions"
      ],
      "metadata": {
        "id": "jAc3Em8AgyvK"
      }
    },
    {
      "cell_type": "code",
      "source": [
        "# Check if there are any duplicate indices\n",
        "print(data.index.duplicated().sum())\n",
        "\n",
        "# If there are duplicates, reset the index\n",
        "if data.index.duplicated().any():\n",
        "    data.reset_index(drop=True, inplace=True)"
      ],
      "metadata": {
        "colab": {
          "base_uri": "https://localhost:8080/"
        },
        "id": "2otywxXNgnfm",
        "outputId": "5b0bffe8-f82c-46c2-d2f5-35aabae08518"
      },
      "execution_count": 32,
      "outputs": [
        {
          "output_type": "stream",
          "name": "stdout",
          "text": [
            "8555\n"
          ]
        }
      ]
    },
    {
      "cell_type": "code",
      "source": [
        "print(\"Max n_votes:\", data['n_votes'].max())\n",
        "print(\"Max n_comments:\", data['n_comments'].max())"
      ],
      "metadata": {
        "colab": {
          "base_uri": "https://localhost:8080/"
        },
        "id": "-Gyd1-QXg4I9",
        "outputId": "38f6a8e9-1679-467a-cb9d-9cf9ae8843ad"
      },
      "execution_count": 33,
      "outputs": [
        {
          "output_type": "stream",
          "name": "stdout",
          "text": [
            "Max n_votes: 644\n",
            "Max n_comments: 429\n"
          ]
        }
      ]
    },
    {
      "cell_type": "code",
      "source": [
        "votes_bins = [0, 50, 100, 500, 1000, data['n_votes'].max() + 1]\n",
        "comments_bins = [0, 10, 50, 100, 500, data['n_comments'].max() + 1]\n",
        "\n",
        "print(\"Votes bins:\", votes_bins)\n",
        "print(\"Comments bins:\", comments_bins)"
      ],
      "metadata": {
        "colab": {
          "base_uri": "https://localhost:8080/"
        },
        "id": "FUOK145Cg7jD",
        "outputId": "f8d3859a-5753-4d35-99c4-589e98f9219d"
      },
      "execution_count": 34,
      "outputs": [
        {
          "output_type": "stream",
          "name": "stdout",
          "text": [
            "Votes bins: [0, 50, 100, 500, 1000, 645]\n",
            "Comments bins: [0, 10, 50, 100, 500, 430]\n"
          ]
        }
      ]
    },
    {
      "cell_type": "code",
      "source": [
        "# Check differences between bins to ensure they are all positive\n",
        "print(\"Votes bins differences:\", np.diff(votes_bins))\n",
        "print(\"Comments bins differences:\", np.diff(comments_bins))"
      ],
      "metadata": {
        "colab": {
          "base_uri": "https://localhost:8080/"
        },
        "id": "26fwPKPOg-75",
        "outputId": "ca469721-ff04-4f5d-b397-c9f3f68b3f1e"
      },
      "execution_count": 35,
      "outputs": [
        {
          "output_type": "stream",
          "name": "stdout",
          "text": [
            "Votes bins differences: [  50   50  400  500 -355]\n",
            "Comments bins differences: [ 10  40  50 400 -70]\n"
          ]
        }
      ]
    },
    {
      "cell_type": "code",
      "source": [
        "# Manually set the last bin to be larger than any possible value in the dataset for both votes and comments\n",
        "votes_bins = [0, 50, 100, 500, 1000]\n",
        "comments_bins = [0, 10, 50, 100, 500]\n",
        "\n",
        "# Extend the last bin beyond the highest predefined value if necessary\n",
        "votes_bins.append(votes_bins[-1] + 500)\n",
        "comments_bins.append(comments_bins[-1] + 500)"
      ],
      "metadata": {
        "id": "Bf00ZqA8hCv4"
      },
      "execution_count": 36,
      "outputs": []
    },
    {
      "cell_type": "code",
      "source": [
        "# Apply binning again with corrected bins\n",
        "data['votes_bin'] = pd.cut(data['n_votes'], bins=votes_bins, right=False)\n",
        "data['comments_bin'] = pd.cut(data['n_comments'], bins=comments_bins, right=False)"
      ],
      "metadata": {
        "id": "bplIdckMhGqB"
      },
      "execution_count": 37,
      "outputs": []
    },
    {
      "cell_type": "code",
      "source": [
        "# Check new differences between bins to ensure all are positive\n",
        "print(\"New Votes bins differences:\", np.diff(votes_bins))\n",
        "print(\"New Comments bins differences:\", np.diff(comments_bins))"
      ],
      "metadata": {
        "colab": {
          "base_uri": "https://localhost:8080/"
        },
        "id": "LPbbMOarhJUS",
        "outputId": "8d08e79f-71ea-4b26-bcbe-d6478993201a"
      },
      "execution_count": 38,
      "outputs": [
        {
          "output_type": "stream",
          "name": "stdout",
          "text": [
            "New Votes bins differences: [ 50  50 400 500 500]\n",
            "New Comments bins differences: [ 10  40  50 400 500]\n"
          ]
        }
      ]
    },
    {
      "cell_type": "code",
      "source": [
        "avg_comments_per_vote_bin = data.groupby('votes_bin')['n_comments'].mean().reset_index()\n",
        "\n",
        "plt.figure(figsize=(10, 6))\n",
        "sns.barplot(x='votes_bin', y='n_comments', data=avg_comments_per_vote_bin)\n",
        "plt.title('Average Number of Comments per Vote Bins')\n",
        "plt.xlabel('Number of Votes (binned)')\n",
        "plt.ylabel('Average Number of Comments')\n",
        "plt.xticks(rotation=45)\n",
        "plt.show()"
      ],
      "metadata": {
        "colab": {
          "base_uri": "https://localhost:8080/",
          "height": 624
        },
        "id": "NW3jVxVrhLwi",
        "outputId": "46c0e4d8-af02-42e2-9610-2aff01ea4fda"
      },
      "execution_count": 39,
      "outputs": [
        {
          "output_type": "display_data",
          "data": {
            "text/plain": [
              "<Figure size 1000x600 with 1 Axes>"
            ],
            "image/png": "[encoded data removed]"
          },
          "metadata": {}
        }
      ]
    },
    {
      "cell_type": "markdown",
      "source": [
        "#### WordCloud"
      ],
      "metadata": {
        "id": "wh_ExbWrhVsY"
      }
    },
    {
      "cell_type": "code",
      "source": [
        "text = ' '.join(review for review in data['review_text'])\n",
        "\n",
        "# Generate a word cloud image\n",
        "wordcloud = WordCloud(width = 800, height = 400, background_color ='white').generate(text)\n",
        "\n",
        "# Display the word cloud image:\n",
        "plt.figure(figsize=(10, 5))\n",
        "plt.imshow(wordcloud, interpolation='bilinear')\n",
        "plt.axis(\"off\")\n",
        "plt.show()"
      ],
      "metadata": {
        "colab": {
          "base_uri": "https://localhost:8080/",
          "height": 422
        },
        "id": "q442qrfChPrP",
        "outputId": "891b68a3-9c0b-443e-a90f-1389df4dffe8"
      },
      "execution_count": 40,
      "outputs": [
        {
          "output_type": "display_data",
          "data": {
            "text/plain": [
              "<Figure size 1000x500 with 1 Axes>"
            ],
            "image/png": "[encoded data removed]"
          },
          "metadata": {}
        }
      ]
    },
    {
      "cell_type": "markdown",
      "source": [
        "#### Top N Words"
      ],
      "metadata": {
        "id": "gGQC9MRBhcX_"
      }
    },
    {
      "cell_type": "code",
      "source": [
        "# Tokenize the text\n",
        "words = text.split()\n",
        "\n",
        "# Get frequencies of each word\n",
        "word_counts = Counter(words)\n",
        "\n",
        "# Determine the number of top words to display, e.g., top 10\n",
        "top_n = 10\n",
        "top_words = word_counts.most_common(top_n)\n",
        "top_words_df = pd.DataFrame(top_words, columns=['Word', 'Frequency'])\n",
        "\n",
        "# Plot\n",
        "plt.figure(figsize=(10, 5))\n",
        "plt.bar(top_words_df['Word'], top_words_df['Frequency'], color ='blue')\n",
        "plt.xlabel('Words')\n",
        "plt.ylabel('Frequency')\n",
        "plt.title('Top N Words in the Dataset')\n",
        "plt.xticks(rotation=45)\n",
        "plt.show()"
      ],
      "metadata": {
        "colab": {
          "base_uri": "https://localhost:8080/",
          "height": 503
        },
        "id": "9DFd-R_9hZrJ",
        "outputId": "5e38d674-5044-41f9-a0d4-8e94bd986b1b"
      },
      "execution_count": 41,
      "outputs": [
        {
          "output_type": "display_data",
          "data": {
            "text/plain": [
              "<Figure size 1000x500 with 1 Axes>"
            ],
            "image/png": "[encoded data removed]"
          },
          "metadata": {}
        }
      ]
    },
    {
      "cell_type": "markdown",
      "source": [
        "## Sentiment Analysis\n",
        "\n",
        "### **Label anotator sentiment**\n",
        "\n",
        "To insert labels such as 'positive', 'neutral', or 'negative' for the DataFrame, we would typically go through a sentiment analysis process. This can be done either:\n",
        "\n",
        "\n",
        "**1. Manually by reading through each text and assigning a label based on the sentiment conveyed**\n",
        "\n",
        "For manual labeling, we could create a new column in the DataFrame and insert the labels directly.\n",
        "\n",
        "\n",
        "**2. Automatically using a sentiment analysis tool or model**\n",
        "\n",
        "For automatic labeling, we'd typically use a pre-trained sentiment analysis model from a library like NLTK, TextBlob, or through a service like Google Cloud Natural Language API."
      ],
      "metadata": {
        "id": "Zvx4qwlVhjFS"
      }
    },
    {
      "cell_type": "code",
      "source": [
        "def assign_sentiment_from_rating(rating):\n",
        "    # Assign sentiment based on rating\n",
        "    if rating in [4, 5]:\n",
        "        return 'positive'\n",
        "    elif rating in [0, 1, 2]:\n",
        "        return 'negative'\n",
        "    elif rating == 3:\n",
        "        return 'neutral'\n",
        "    else:\n",
        "        return 'undefined'"
      ],
      "metadata": {
        "id": "F8_8BKf5hfNp"
      },
      "execution_count": 42,
      "outputs": []
    },
    {
      "cell_type": "code",
      "source": [
        "data['sentiment'] = data['rating'].apply(assign_sentiment_from_rating)"
      ],
      "metadata": {
        "id": "FzQHi50Oh4sR"
      },
      "execution_count": 43,
      "outputs": []
    },
    {
      "cell_type": "code",
      "source": [
        "label_mapping = {'positive': 0, 'negative': 1, 'neutral': 2}\n",
        "\n",
        "# Replace string labels with integers\n",
        "data['sentiment'] = data['sentiment'].replace(label_mapping)"
      ],
      "metadata": {
        "id": "ZdXeRsDKr1B8"
      },
      "execution_count": 44,
      "outputs": []
    },
    {
      "cell_type": "code",
      "source": [
        "# Validate the number of records and proportions\n",
        "print(\"Total records sampled:\", data.shape[0])\n",
        "print(data['sentiment'].value_counts(normalize=True))  # Check the percentage distribution"
      ],
      "metadata": {
        "colab": {
          "base_uri": "https://localhost:8080/"
        },
        "id": "3hKU9SQ7r4lD",
        "outputId": "2ef41792-7550-4556-b0e2-456e739833d9"
      },
      "execution_count": 45,
      "outputs": [
        {
          "output_type": "stream",
          "name": "stdout",
          "text": [
            "Total records sampled: 17997\n",
            "sentiment\n",
            "0    0.643052\n",
            "2    0.209979\n",
            "1    0.146969\n",
            "Name: proportion, dtype: float64\n"
          ]
        }
      ]
    },
    {
      "cell_type": "code",
      "source": [
        "print(data[['rating', 'sentiment']].head())"
      ],
      "metadata": {
        "colab": {
          "base_uri": "https://localhost:8080/"
        },
        "id": "euTe_ZmAh7fq",
        "outputId": "98888bc7-b639-460b-d210-83c4f33c7e98"
      },
      "execution_count": 46,
      "outputs": [
        {
          "output_type": "stream",
          "name": "stdout",
          "text": [
            "   rating  sentiment\n",
            "0       4          0\n",
            "1       4          0\n",
            "2       4          0\n",
            "3       4          0\n",
            "4       4          0\n"
          ]
        }
      ]
    },
    {
      "cell_type": "markdown",
      "source": [
        "## Train / Validation split"
      ],
      "metadata": {
        "id": "LSD7wXCTiOxj"
      }
    },
    {
      "cell_type": "code",
      "source": [
        "sentiments = data['sentiment'].values.tolist()\n",
        "reviews = data['review_text'].values.tolist()\n",
        "\n",
        "training_sentences, validation_sentences, training_labels, validation_labels = train_test_split(\n",
        "    reviews,\n",
        "    sentiments,\n",
        "    test_size=0.2,\n",
        "    stratify=sentiments\n",
        ")"
      ],
      "metadata": {
        "id": "onqCcFuWiL3Q"
      },
      "execution_count": 47,
      "outputs": []
    },
    {
      "cell_type": "markdown",
      "source": [
        "## Tokenization"
      ],
      "metadata": {
        "id": "YvujD0DJi29m"
      }
    },
    {
      "cell_type": "code",
      "source": [
        "tokenizer = DistilBertTokenizerFast.from_pretrained('distilbert-base-uncased')"
      ],
      "metadata": {
        "colab": {
          "base_uri": "https://localhost:8080/",
          "height": 145,
          "referenced_widgets": [
            "47c1d78281a84875a2881957863dabcb",
            "377bb6dc7a7248d999955838b0fbd062",
            "e90800861a824e449dfa48205d7243a6",
            "3758feecadff436f929b4f8399853ea0",
            "50dd80185f4c40f78e9ac2c2b6700000",
            "50c80df016604b68bf7b297fb3fd301c",
            "6b2d895c8a87463c9562db8c66217ea7",
            "9a2531443ad44881baeba8c8c245b2ff",
            "14b0642937ed41b08c9d64107a09c7e4",
            "9b518fb53df04774b2352d6031a81424",
            "d4e9b987dc6d4804a63bbc998b4fd758",
            "7d8c94b6d4fc42f49420d131dfb5a309",
            "cbdcf13337424f3b96ad16f63a66ca6c",
            "a7daf275cce3433cab2a1c845e275f8c",
            "40e58ec320f449a58446b50b39ce2f94",
            "c8ed862cfe8b42faafc0d307caf2611b",
            "726856e249374b9fa836c2b8fe6a29c6",
            "c634b7ea4e324fac8776b1dbda8c09c9",
            "27cc878a5b2d480c8215d4b7c0d57fc9",
            "c25d5ec7db72496e8629cc7ce020e224",
            "3a00195ce79d4264b9a544088aeb61e7",
            "e34575cbae15466780f06fd54644cf58",
            "05c34954301a4b2991976c6fff4302f4",
            "1a0af6e6c5174e94be7e2e9d49bdd55b",
            "5ffd7fe156614b718c20f94a6f3a046c",
            "5ddb4a4b4a4b4eafad449856002e8bbf",
            "1aca0a9de0814a4a8f225ea74d3ec47c",
            "14fb5c7340fc4ac6b6c6ccd268118398",
            "c641fbb816df40bd8cffb9b9e932b572",
            "e641cbbd036e4768bab46c9ff16f568f",
            "821d2a34f6f24d2f8614ea8b0e7e6a7a",
            "69ed7bcf614647b0b8f68fda0ffd3383",
            "6d21ea39799d4d72bc1fd687c0147b83",
            "2b4ac2ab2ffe4db4995a6ce1eb73248a",
            "eefb6eb34cc7494cafc3307c6afbeaa0",
            "c3e9dd7bfe9e4da2b842f4c62c118b68",
            "f72faa74ff5d41948358fced53e52a81",
            "a89dcab39f3745068ef77c5aa61be7ed",
            "7f27242f42da4371a00f81b904341c08",
            "9a4a8db1435d44d5968639a4cf78ed17",
            "5ed40631047b408fbfcfcd1c8907c79a",
            "aaedfe81980e4f6da1a57e3e8536e231",
            "ae1cc04d2cf84505861a9f2640111ca6",
            "0d8aa246c90f4620b558ba84f13f5f7b"
          ]
        },
        "id": "b8pwDk2Ei0MI",
        "outputId": "218dcdf6-9a29-41cc-82d2-796e16f9ef50"
      },
      "execution_count": 48,
      "outputs": [
        {
          "output_type": "display_data",
          "data": {
            "text/plain": [
              "Downloading:   0%|          | 0.00/48.0 [00:00<?, ?B/s]"
            ],
            "application/vnd.jupyter.widget-view+json": {
              "version_major": 2,
              "version_minor": 0,
              "model_id": "47c1d78281a84875a2881957863dabcb"
            }
          },
          "metadata": {}
        },
        {
          "output_type": "display_data",
          "data": {
            "text/plain": [
              "Downloading:   0%|          | 0.00/226k [00:00<?, ?B/s]"
            ],
            "application/vnd.jupyter.widget-view+json": {
              "version_major": 2,
              "version_minor": 0,
              "model_id": "7d8c94b6d4fc42f49420d131dfb5a309"
            }
          },
          "metadata": {}
        },
        {
          "output_type": "display_data",
          "data": {
            "text/plain": [
              "Downloading:   0%|          | 0.00/455k [00:00<?, ?B/s]"
            ],
            "application/vnd.jupyter.widget-view+json": {
              "version_major": 2,
              "version_minor": 0,
              "model_id": "05c34954301a4b2991976c6fff4302f4"
            }
          },
          "metadata": {}
        },
        {
          "output_type": "display_data",
          "data": {
            "text/plain": [
              "Downloading:   0%|          | 0.00/483 [00:00<?, ?B/s]"
            ],
            "application/vnd.jupyter.widget-view+json": {
              "version_major": 2,
              "version_minor": 0,
              "model_id": "2b4ac2ab2ffe4db4995a6ce1eb73248a"
            }
          },
          "metadata": {}
        }
      ]
    },
    {
      "cell_type": "code",
      "source": [
        "tokenizer([training_sentences[0]], truncation=True,\n",
        "                            padding=True, max_length=128)"
      ],
      "metadata": {
        "colab": {
          "base_uri": "https://localhost:8080/"
        },
        "id": "FF8hGwWRi5gC",
        "outputId": "9378a15b-96a8-49bd-f118-1cda0a3860fd"
      },
      "execution_count": 49,
      "outputs": [
        {
          "output_type": "execute_result",
          "data": {
            "text/plain": [
              "{'input_ids': [[101, 10166, 999, 2054, 2019, 4566, 999, 999, 999, 102]], 'attention_mask': [[1, 1, 1, 1, 1, 1, 1, 1, 1, 1]]}"
            ]
          },
          "metadata": {},
          "execution_count": 49
        }
      ]
    },
    {
      "cell_type": "code",
      "source": [
        "train_encodings = tokenizer(training_sentences,\n",
        "                            truncation=True,\n",
        "                            padding=True,\n",
        "                            max_length=512,\n",
        "                            return_tensors=\"tf\")\n",
        "\n",
        "val_encodings = tokenizer(validation_sentences,\n",
        "                          truncation=True,\n",
        "                          padding=True,\n",
        "                          max_length=512,\n",
        "                          return_tensors=\"tf\")"
      ],
      "metadata": {
        "id": "t8EKDqNdi9PW"
      },
      "execution_count": 50,
      "outputs": []
    },
    {
      "cell_type": "markdown",
      "source": [
        "## TensorFlow Dataset"
      ],
      "metadata": {
        "id": "p5t91JVYjGLc"
      }
    },
    {
      "cell_type": "code",
      "source": [
        "print(\"Number of training inputs:\", train_encodings['input_ids'].shape[0])\n",
        "print(\"Number of training labels:\", len(training_labels))\n",
        "\n",
        "print(\"Number of validation inputs:\", val_encodings['input_ids'].shape[0])\n",
        "print(\"Number of validation labels:\", len(validation_labels))"
      ],
      "metadata": {
        "colab": {
          "base_uri": "https://localhost:8080/"
        },
        "id": "P1O6xR8Oud2w",
        "outputId": "be45bf1e-c914-4802-89b5-60e3afc733df"
      },
      "execution_count": 51,
      "outputs": [
        {
          "output_type": "stream",
          "name": "stdout",
          "text": [
            "Number of training inputs: 14397\n",
            "Number of training labels: 14397\n",
            "Number of validation inputs: 3600\n",
            "Number of validation labels: 3600\n"
          ]
        }
      ]
    },
    {
      "cell_type": "code",
      "source": [
        "train_dataset = tf.data.Dataset.from_tensor_slices(({\n",
        "    'input_ids': train_encodings['input_ids'],\n",
        "    'attention_mask': train_encodings['attention_mask']\n",
        "}, training_labels)).shuffle(100).batch(16)\n",
        "\n",
        "val_dataset = tf.data.Dataset.from_tensor_slices(({\n",
        "    'input_ids': val_encodings['input_ids'],\n",
        "    'attention_mask': val_encodings['attention_mask']\n",
        "}, validation_labels)).shuffle(100).batch(16)"
      ],
      "metadata": {
        "id": "yh3GjbMijAOy"
      },
      "execution_count": 52,
      "outputs": []
    },
    {
      "cell_type": "markdown",
      "source": [
        "## Model"
      ],
      "metadata": {
        "id": "mD6jytTzjNwN"
      }
    },
    {
      "cell_type": "markdown",
      "source": [
        "### Training"
      ],
      "metadata": {
        "id": "xVAWpjCvkFP7"
      }
    },
    {
      "cell_type": "code",
      "source": [
        "# Verify the shapes of input_ids and attention_mask\n",
        "for inputs, labels in train_dataset.take(1):\n",
        "    print(\"Input IDs shape:\", inputs['input_ids'].shape)\n",
        "    print(\"Attention mask shape:\", inputs['attention_mask'].shape)"
      ],
      "metadata": {
        "colab": {
          "base_uri": "https://localhost:8080/"
        },
        "id": "NfxhnDEHpelx",
        "outputId": "009f6678-6bf5-4010-ce06-1a728a518dbb"
      },
      "execution_count": 53,
      "outputs": [
        {
          "output_type": "stream",
          "name": "stdout",
          "text": [
            "Input IDs shape: (16, 512)\n",
            "Attention mask shape: (16, 512)\n"
          ]
        }
      ]
    },
    {
      "cell_type": "code",
      "source": [
        "from transformers import TFDistilBertForSequenceClassification, DistilBertTokenizer\n",
        "\n",
        "# Load model\n",
        "model = TFDistilBertForSequenceClassification.from_pretrained('distilbert-base-uncased', num_labels=3)\n",
        "\n",
        "# Compile model\n",
        "# using categorical labels\n",
        "model.compile(\n",
        "    optimizer=tf.keras.optimizers.Adam(learning_rate=5e-5, epsilon=1e-08),\n",
        "    loss=tf.keras.losses.SparseCategoricalCrossentropy(from_logits=True),\n",
        "    metrics=['accuracy']\n",
        ")\n"
      ],
      "metadata": {
        "colab": {
          "base_uri": "https://localhost:8080/",
          "height": 156,
          "referenced_widgets": [
            "3445a58666a845849b089c20653d71b0",
            "6749e13a57ee4b35b6fdc01ca2ebe5ae",
            "af513cb6cb6442b292447c159343ce39",
            "d142e3680b424a359538f618073ede2c",
            "3f552e1c566142cc92f10e96573421b8",
            "70378b4750eb4b2f82be801b4c7f8968",
            "b57d291a8f2041e4b81ddbe46e3b8c12",
            "a75c8ed7be3d4455a72b58fb5ca5bd8d",
            "e244d7183617457bb9e9c9ce25fd432a",
            "25ec6db5f1934a4e87b660c2d00ea33e",
            "3462cead4b5048bea6efebd75d713d9b"
          ]
        },
        "id": "VxsyzSR7jXLz",
        "outputId": "39df65c0-c485-45e5-e86c-a5f8ea4e1959"
      },
      "execution_count": 54,
      "outputs": [
        {
          "output_type": "display_data",
          "data": {
            "text/plain": [
              "Downloading:   0%|          | 0.00/347M [00:00<?, ?B/s]"
            ],
            "application/vnd.jupyter.widget-view+json": {
              "version_major": 2,
              "version_minor": 0,
              "model_id": "3445a58666a845849b089c20653d71b0"
            }
          },
          "metadata": {}
        },
        {
          "output_type": "stream",
          "name": "stderr",
          "text": [
            "Some layers from the model checkpoint at distilbert-base-uncased were not used when initializing TFDistilBertForSequenceClassification: ['vocab_projector', 'activation_13', 'vocab_layer_norm', 'vocab_transform']\n",
            "- This IS expected if you are initializing TFDistilBertForSequenceClassification from the checkpoint of a model trained on another task or with another architecture (e.g. initializing a BertForSequenceClassification model from a BertForPreTraining model).\n",
            "- This IS NOT expected if you are initializing TFDistilBertForSequenceClassification from the checkpoint of a model that you expect to be exactly identical (initializing a BertForSequenceClassification model from a BertForSequenceClassification model).\n",
            "Some layers of TFDistilBertForSequenceClassification were not initialized from the model checkpoint at distilbert-base-uncased and are newly initialized: ['pre_classifier', 'dropout_19', 'classifier']\n",
            "You should probably TRAIN this model on a down-stream task to be able to use it for predictions and inference.\n"
          ]
        }
      ]
    },
    {
      "cell_type": "code",
      "source": [
        "# Take one batch from the training dataset\n",
        "for batch in train_dataset.take(1):\n",
        "    inputs, labels = batch\n",
        "    # Try to perform a forward pass\n",
        "    try:\n",
        "        outputs = model(inputs)\n",
        "        print(\"Forward pass successful. Outputs:\", outputs)\n",
        "    except Exception as e:\n",
        "        print(\"Error during model forward pass:\", e)"
      ],
      "metadata": {
        "colab": {
          "base_uri": "https://localhost:8080/"
        },
        "id": "z_3fpSn6k5YX",
        "outputId": "7f2b4e32-f13d-44f8-b53f-a75ac623eed9"
      },
      "execution_count": 55,
      "outputs": [
        {
          "output_type": "stream",
          "name": "stdout",
          "text": [
            "Forward pass successful. Outputs: TFSequenceClassifierOutput(loss=None, logits=<tf.Tensor: shape=(16, 3), dtype=float32, numpy=\n",
            "array([[-0.13709599, -0.03457291,  0.07345338],\n",
            "       [-0.11971421, -0.06373505,  0.03835793],\n",
            "       [-0.08992567, -0.06706138,  0.03187665],\n",
            "       [-0.12928161, -0.04305618,  0.00178179],\n",
            "       [-0.09297135, -0.09684218,  0.0503749 ],\n",
            "       [-0.15282866, -0.05857237,  0.03142175],\n",
            "       [-0.1499812 , -0.0719778 ,  0.06170709],\n",
            "       [-0.08052247, -0.07381297,  0.00861559],\n",
            "       [-0.13373835, -0.06417422,  0.04441424],\n",
            "       [-0.12625122, -0.0406234 ,  0.01596241],\n",
            "       [-0.11439008, -0.08727643,  0.05203541],\n",
            "       [-0.08695026, -0.0659273 ,  0.06460887],\n",
            "       [-0.08570255, -0.0851627 ,  0.06169615],\n",
            "       [-0.13256364, -0.08313809,  0.04966047],\n",
            "       [-0.10727127, -0.07686702,  0.0425434 ],\n",
            "       [-0.15368898, -0.06455821,  0.01994215]], dtype=float32)>, hidden_states=None, attentions=None)\n"
          ]
        }
      ]
    },
    {
      "cell_type": "code",
      "source": [
        "# Check a sample from the dataset to ensure labels are included and correctly formatted\n",
        "for inputs, labels in train_dataset.take(1):\n",
        "    print(\"Input format:\", type(inputs), inputs.keys())\n",
        "    print(\"Label format:\", type(labels), labels.shape, labels.dtype)"
      ],
      "metadata": {
        "colab": {
          "base_uri": "https://localhost:8080/"
        },
        "id": "Or472q7jq-Wy",
        "outputId": "0e3f2964-d070-4a3a-e710-de8af067e828"
      },
      "execution_count": 56,
      "outputs": [
        {
          "output_type": "stream",
          "name": "stdout",
          "text": [
            "Input format: <class 'dict'> dict_keys(['input_ids', 'attention_mask'])\n",
            "Label format: <class 'tensorflow.python.framework.ops.EagerTensor'> (16,) <dtype: 'int32'>\n"
          ]
        }
      ]
    },
    {
      "cell_type": "code",
      "source": [
        "try:\n",
        "    history = model.fit(\n",
        "        train_dataset,  # Dataset already shuffled and batched\n",
        "        epochs=5,\n",
        "        validation_data=val_dataset\n",
        "    )\n",
        "    print(\"Training completed successfully.\")\n",
        "except Exception as e:\n",
        "    print(\"Error during training:\", e)"
      ],
      "metadata": {
        "colab": {
          "base_uri": "https://localhost:8080/"
        },
        "id": "f_xYV-JUqJyt",
        "outputId": "ec62949f-7acd-434a-bc0f-458e6485a927"
      },
      "execution_count": null,
      "outputs": [
        {
          "output_type": "stream",
          "name": "stdout",
          "text": [
            "Epoch 1/5\n",
            "260/900 [=======>......................] - ETA: 1:22:43 - loss: 0.7851 - accuracy: 0.6611"
          ]
        }
      ]
    },
    {
      "cell_type": "markdown",
      "source": [
        "### Plot"
      ],
      "metadata": {
        "id": "jrvR2oj-lZXB"
      }
    },
    {
      "cell_type": "code",
      "source": [
        "train_accuracy = history.history['accuracy']\n",
        "val_accuracy = history.history['val_accuracy']\n",
        "train_loss = history.history['loss']\n",
        "val_loss = history.history['val_loss']"
      ],
      "metadata": {
        "id": "mD6Bh6xhwvt1"
      },
      "execution_count": null,
      "outputs": []
    },
    {
      "cell_type": "code",
      "source": [
        "# Create a figure and a single subplot\n",
        "fig, ax1 = plt.subplots(figsize=(10, 5))\n",
        "\n",
        "# Create the first y-axis for accuracy\n",
        "color = 'tab:blue'\n",
        "ax1.set_xlabel('Epoch')\n",
        "ax1.set_ylabel('Accuracy', color=color)\n",
        "ax1.plot(train_accuracy, label='Train Accuracy', color=color)\n",
        "ax1.plot(val_accuracy, label='Validation Accuracy', color=color, linestyle='dashed')\n",
        "ax1.tick_params(axis='y', labelcolor=color)\n",
        "ax1.legend(loc='upper left')\n",
        "\n",
        "# Create a second y-axis for loss, shared with the same x-axis\n",
        "ax2 = ax1.twinx()  # instantiate a second axes\n",
        "color = 'tab:red'\n",
        "ax2.set_ylabel('Loss', color=color)\n",
        "ax2.plot(train_loss, label='Train Loss', color=color)\n",
        "ax2.plot(val_loss, label='Validation Loss', color=color, linestyle='dashed')\n",
        "ax2.tick_params(axis='y', labelcolor=color)\n",
        "ax2.legend(loc='upper right')\n",
        "\n",
        "# Title of the plot\n",
        "plt.title('Training & Validation Accuracy and Loss')\n",
        "\n",
        "# Show plot\n",
        "plt.show()"
      ],
      "metadata": {
        "id": "gtqNnAQlleXk"
      },
      "execution_count": null,
      "outputs": []
    },
    {
      "cell_type": "markdown",
      "source": [
        "### Save Model"
      ],
      "metadata": {
        "id": "eaOw-p6GlsiR"
      }
    },
    {
      "cell_type": "code",
      "source": [
        "model.save_pretrained(\"/content/drive/MyDrive/Bootcamp/Day 33 - Checkpoint 1/sentiment\")"
      ],
      "metadata": {
        "id": "wWfetp8Llu-7"
      },
      "execution_count": null,
      "outputs": []
    },
    {
      "cell_type": "markdown",
      "source": [
        "### Load Model"
      ],
      "metadata": {
        "id": "JrZi1cYFl1Rh"
      }
    },
    {
      "cell_type": "code",
      "source": [
        "loaded_model = TFDistilBertForSequenceClassification.from_pretrained(\"/content/drive/MyDrive/Bootcamp/Day 33 - Checkpoint 1/sentiment\")"
      ],
      "metadata": {
        "id": "r-tRrearl3PJ"
      },
      "execution_count": null,
      "outputs": []
    },
    {
      "cell_type": "markdown",
      "source": [
        "### Prediction"
      ],
      "metadata": {
        "id": "VYGUO6Dhl7ga"
      }
    },
    {
      "cell_type": "code",
      "source": [
        "test_sentence = \"started interesting thriller woman run mysterious pass story took strange twists turns ends talky talky reveal.\"\n",
        "\n",
        "\n",
        "predict_input = tokenizer.encode(test_sentence,\n",
        "                                 truncation=True,\n",
        "                                 padding=True,\n",
        "                                 return_tensors=\"tf\")\n",
        "\n",
        "tf_output = loaded_model.predict(predict_input)[0]\n",
        "\n",
        "\n",
        "tf_prediction = tf.nn.softmax(tf_output, axis=1)\n",
        "labels = ['Negative','Positive', 'Neutral']\n",
        "label = tf.argmax(tf_prediction, axis=1)\n",
        "label = label.numpy()\n",
        "print(labels[label[0]])\n"
      ],
      "metadata": {
        "id": "f3WjblH5_6wj"
      },
      "execution_count": null,
      "outputs": []
    },
    {
      "cell_type": "markdown",
      "source": [
        "## Hyperparameter Tuning\n"
      ],
      "metadata": {
        "id": "UOdZ7C9j5tOj"
      }
    },
    {
      "cell_type": "code",
      "source": [
        "pip install keras-tuner"
      ],
      "metadata": {
        "id": "K4HYTVYU5xG0"
      },
      "execution_count": null,
      "outputs": []
    },
    {
      "cell_type": "code",
      "source": [
        "pip show tensorflow"
      ],
      "metadata": {
        "id": "5yrgkwprb4Y4"
      },
      "execution_count": null,
      "outputs": []
    },
    {
      "cell_type": "code",
      "source": [
        "pip install --upgrade tensorflow"
      ],
      "metadata": {
        "id": "XXaRT-5wb-7x"
      },
      "execution_count": null,
      "outputs": []
    },
    {
      "cell_type": "code",
      "source": [
        "from tensorflow.keras.optimizers import Adam\n",
        "\n",
        "try:\n",
        "    optimizer = Adam(learning_rate=0.001)\n",
        "    print(\"Adam optimizer instantiated successfully.\")\n",
        "except Exception as e:\n",
        "    print(\"Error instantiating Adam:\", e)"
      ],
      "metadata": {
        "id": "hgV1n934gMP0"
      },
      "execution_count": null,
      "outputs": []
    },
    {
      "cell_type": "code",
      "source": [
        "def build_model(hp):\n",
        "    global loaded_model\n",
        "    model = loaded_model\n",
        "\n",
        "    # Retrieve hyperparameters\n",
        "    model = TFDistilBertForSequenceClassification.from_pretrained('distilbert-base-uncased', num_labels=3)\n",
        "    lr = hp.Float('learning_rate', 1e-5, 1e-3, sampling='log')\n",
        "\n",
        "   model.compile(\n",
        "        optimizer=Adam(lr),\n",
        "        loss=model.compute_loss,\n",
        "        metrics=['accuracy']\n",
        "    )\n",
        "    return model"
      ],
      "metadata": {
        "id": "j2OtlpjtDfIL"
      },
      "execution_count": null,
      "outputs": []
    },
    {
      "cell_type": "code",
      "source": [
        "# Define the search tuner\n",
        "tuner = RandomSearch(\n",
        "    build_model,\n",
        "    objective='val_accuracy',\n",
        "    max_trials=5,\n",
        "    executions_per_trial=1,\n",
        "    directory='/content/drive/MyDrive/Bootcamp/Day 33 - Checkpoint 1/sentiment',\n",
        "    project_name='distilbert_tuning'\n",
        ")\n",
        "\n",
        "# Fit the tuner\n",
        "tuner.search(train_dataset,\n",
        "             epochs=2,\n",
        "             validation_data=val_dataset,\n",
        "             callbacks=[tf.keras.callbacks.EarlyStopping(patience=1)])"
      ],
      "metadata": {
        "id": "ceCGu-nMWDfM"
      },
      "execution_count": null,
      "outputs": []
    },
    {
      "cell_type": "code",
      "source": [
        "# Fetch the best model\n",
        "best_model = tuner.get_best_models(num_models=1)[0]\n",
        "\n",
        "# Get best hyperparameters\n",
        "best_hyperparameters = tuner.get_best_hyperparameters(num=1)[0]\n",
        "print(\"Best hyperparameters:\", best_hyperparameters.values)"
      ],
      "metadata": {
        "id": "Wtn-MCaRUrQI"
      },
      "execution_count": null,
      "outputs": []
    },
    {
      "cell_type": "code",
      "source": [],
      "metadata": {
        "id": "bjYiUsbBnrGo"
      },
      "execution_count": null,
      "outputs": []
    }
  ]
}